{
 "cells": [
  {
   "cell_type": "markdown",
   "metadata": {},
   "source": [
    "# Project: 4     Web Scraping Job Postings\n",
    "\n",
    "Authors: Jovy Postrado\n",
    "\n",
    "---\n",
    "\n",
    "This project consists of testing the three major skills: collecting data by scraping a website, using natural language processing, and building a binary classifier.\n",
    "\n",
    "I collected salary information on data science jobs in the Indeed Australia only. Then using the location, title, and summary of the job I attempted to predict the salary of the job. For job posting sites, this would be extraordinarily useful. While most listings do not come with salary information, being to able extrapolate or predict the expected salaries from other listings can be useful.\n",
    "\n",
    "I also determined if each job’s salary is high and low based on average salary from payscale.com. Normally, regression could be used for a task like this; however, since there is a fair amount of natural variance in job salaries, I approached this as a classification problem and used a random forest classifier. \n",
    "\n",
    "The first part of the project was focused on scraping Indeed.com.au. The latter part of the project was focused on using natural language processing and building models using job postings with salary information to predict salaries.\n",
    "\n",
    "\n",
    "## Conclusion\n",
    "\n",
    "Based on the data i have, Title and Location effects the salary. Business and Brisbane were the strongest predictors of salary. The model had average precision — approximately 74% accuracy, where random guesses could have achieved 59% — which may have been caused by variability in the source salary data.\n",
    "\n",
    "\n",
    "## Scraping job posts from Indeed.com.au\n",
    "\n",
    "---\n",
    "I scraped those data-related job postings like data scientist, data analyst, research scientist, business intelligence within Australia only.\n",
    "\n",
    "\n",
    "My Indeed scraper is included on my folder namely IndeedScraper.py. Following are some features of the scraper I made.\n",
    "\n",
    "\n",
    "- You need to search for the job and location you wanted then copy the address and paste it to the main_page.\n",
    "- You also need to change the name of the csv file which is in the bottom and the path of the chromedriver.\n",
    "- And because this is a py file it needs to be run on Spyder or any software that can run any py files.\n",
    "- Make sure to clear all the history and cookies before starting as it helps to prevent loading the source page of each jobs posted in Indeed.\n",
    "- It will starts loading the main_page at the chromedriver and automatically clicks every jobs\n",
    "- A new tab will open and when it loads it will automatically scrape it then close itself.\n",
    "- After scraping the jobs in the results page, it will go to the next page until the last pages.\n",
    "- It will load a status which page and how many jobs and minutes it finished.\n",
    "- I put alot of exceptions for all the possible error that it will encounter like Failed to scrape for the summary"
   ]
  },
  {
   "cell_type": "code",
   "execution_count": 1,
   "metadata": {
    "collapsed": true
   },
   "outputs": [],
   "source": [
    "import pandas as pd\n",
    "import numpy as np\n",
    "\n",
    "from sklearn.model_selection import cross_val_score, train_test_split\n",
    "from sklearn.tree import DecisionTreeClassifier\n",
    "from sklearn.ensemble import RandomForestClassifier, ExtraTreesClassifier, AdaBoostClassifier, GradientBoostingClassifier\n",
    "from sklearn.metrics import accuracy_score\n",
    "from sklearn.feature_extraction.text import CountVectorizer\n",
    "\n",
    "import matplotlib.pyplot as plt\n",
    "import seaborn as sns\n",
    "\n",
    "plt.style.use('fivethirtyeight')\n",
    "\n",
    "%matplotlib inline\n",
    "%config InlineBackend.figure_format = 'retina'"
   ]
  },
  {
   "cell_type": "markdown",
   "metadata": {},
   "source": [
    "### Cleaning of the raw data happened at Cleaning_data.ipynb included in this folder\n",
    "\n",
    "Here's the raw data that the scraper made."
   ]
  },
  {
   "cell_type": "code",
   "execution_count": 58,
   "metadata": {},
   "outputs": [
    {
     "data": {
      "text/html": [
       "<div>\n",
       "<style>\n",
       "    .dataframe thead tr:only-child th {\n",
       "        text-align: right;\n",
       "    }\n",
       "\n",
       "    .dataframe thead th {\n",
       "        text-align: left;\n",
       "    }\n",
       "\n",
       "    .dataframe tbody tr th {\n",
       "        vertical-align: top;\n",
       "    }\n",
       "</style>\n",
       "<table border=\"1\" class=\"dataframe\">\n",
       "  <thead>\n",
       "    <tr style=\"text-align: right;\">\n",
       "      <th></th>\n",
       "      <th>Unnamed: 0</th>\n",
       "      <th>Jobs</th>\n",
       "      <th>Companies</th>\n",
       "      <th>Locations</th>\n",
       "      <th>Salaries</th>\n",
       "      <th>Summaries</th>\n",
       "      <th>Link_Page</th>\n",
       "    </tr>\n",
       "  </thead>\n",
       "  <tbody>\n",
       "    <tr>\n",
       "      <th>100</th>\n",
       "      <td>100</td>\n",
       "      <td>Industry Cloud Architect</td>\n",
       "      <td>Vlocity</td>\n",
       "      <td>Sydney NSW</td>\n",
       "      <td>Nothing Found</td>\n",
       "      <td>Company Description ------------------- Vlocit...</td>\n",
       "      <td>https://au.indeed.com/viewjob?jk=5f119af2536d9...</td>\n",
       "    </tr>\n",
       "    <tr>\n",
       "      <th>101</th>\n",
       "      <td>101</td>\n",
       "      <td>Product Manager - Ad Serving &amp; Data</td>\n",
       "      <td>Leadbolt</td>\n",
       "      <td>Bondi Junction NSW</td>\n",
       "      <td>Nothing Found</td>\n",
       "      <td>Are you a Product Manager working within the M...</td>\n",
       "      <td>https://au.indeed.com/viewjob?jk=90dbd2afe351b...</td>\n",
       "    </tr>\n",
       "    <tr>\n",
       "      <th>102</th>\n",
       "      <td>102</td>\n",
       "      <td>Measurement Lead, ANZ</td>\n",
       "      <td>Facebook</td>\n",
       "      <td>Sydney NSW</td>\n",
       "      <td>Nothing Found</td>\n",
       "      <td>(Sydney, Australia - Melbourne, Australia) Fac...</td>\n",
       "      <td>https://au.indeed.com/viewjob?jk=02abeee531dcd...</td>\n",
       "    </tr>\n",
       "    <tr>\n",
       "      <th>103</th>\n",
       "      <td>103</td>\n",
       "      <td>TITUS Professional Services Consultant, APAC</td>\n",
       "      <td>Titus</td>\n",
       "      <td>Sydney NSW</td>\n",
       "      <td>Nothing Found</td>\n",
       "      <td>TITUS is currently seeking an enthusiastic, re...</td>\n",
       "      <td>https://au.indeed.com/viewjob?jk=82f392e962fe1...</td>\n",
       "    </tr>\n",
       "    <tr>\n",
       "      <th>104</th>\n",
       "      <td>104</td>\n",
       "      <td>Product Manager - Industrial Data Loggers</td>\n",
       "      <td>Thermo Fisher Scientific</td>\n",
       "      <td>Scoresby VIC</td>\n",
       "      <td>Nothing Found</td>\n",
       "      <td>Job Description Newly created role Create key ...</td>\n",
       "      <td>https://au.indeed.com/viewjob?jk=95ff6cb727e5d...</td>\n",
       "    </tr>\n",
       "    <tr>\n",
       "      <th>105</th>\n",
       "      <td>105</td>\n",
       "      <td>Senior Technical Specialist</td>\n",
       "      <td>Tasmanian Government</td>\n",
       "      <td>Hobart TAS</td>\n",
       "      <td>$87,955 - $99,599 a year</td>\n",
       "      <td>Award/Classification: Tasmanian State Service ...</td>\n",
       "      <td>https://au.indeed.com/viewjob?jk=b64d9f39c9bda...</td>\n",
       "    </tr>\n",
       "    <tr>\n",
       "      <th>106</th>\n",
       "      <td>106</td>\n",
       "      <td>Clinical Operations Manager</td>\n",
       "      <td>PRA International</td>\n",
       "      <td>Australia</td>\n",
       "      <td>Nothing Found</td>\n",
       "      <td>The Manager of Clinical Operations is responsi...</td>\n",
       "      <td>https://au.indeed.com/viewjob?jk=04908d5e44f9b...</td>\n",
       "    </tr>\n",
       "    <tr>\n",
       "      <th>107</th>\n",
       "      <td>107</td>\n",
       "      <td>Senior Professional Solution Architect</td>\n",
       "      <td>CSC</td>\n",
       "      <td>Adelaide SA</td>\n",
       "      <td>Nothing Found</td>\n",
       "      <td>DXC Technology (NYSE: DXC) is the world’s lead...</td>\n",
       "      <td>https://au.indeed.com/viewjob?jk=2aa12f1013851...</td>\n",
       "    </tr>\n",
       "    <tr>\n",
       "      <th>108</th>\n",
       "      <td>108</td>\n",
       "      <td>Directory Solutions Architect</td>\n",
       "      <td>Ping Identity</td>\n",
       "      <td>Sydney NSW</td>\n",
       "      <td>Nothing Found</td>\n",
       "      <td>At Ping Identity, we're changing the way peopl...</td>\n",
       "      <td>https://au.indeed.com/viewjob?jk=3d6d05a7eacf2...</td>\n",
       "    </tr>\n",
       "    <tr>\n",
       "      <th>109</th>\n",
       "      <td>109</td>\n",
       "      <td>Scrum Master</td>\n",
       "      <td>Accenture</td>\n",
       "      <td>Melbourne VIC</td>\n",
       "      <td>Nothing Found</td>\n",
       "      <td>Join Accenture and help transform leading orga...</td>\n",
       "      <td>https://au.indeed.com/viewjob?jk=ecf90f577bc8b...</td>\n",
       "    </tr>\n",
       "    <tr>\n",
       "      <th>110</th>\n",
       "      <td>110</td>\n",
       "      <td>Digital Marketing Manager</td>\n",
       "      <td>Johnson &amp; Johnson Family of Companies</td>\n",
       "      <td>Sydney NSW</td>\n",
       "      <td>Nothing Found</td>\n",
       "      <td>Sydney based – North Ryde • Exposure to variou...</td>\n",
       "      <td>https://au.indeed.com/viewjob?jk=17bce6ca9b8d1...</td>\n",
       "    </tr>\n",
       "    <tr>\n",
       "      <th>111</th>\n",
       "      <td>111</td>\n",
       "      <td>Accenture Big Data Engineer Consultant/Manager</td>\n",
       "      <td>Accenture</td>\n",
       "      <td>Sydney NSW</td>\n",
       "      <td>Nothing Found</td>\n",
       "      <td>Your career in Accenture Digital Accenture Big...</td>\n",
       "      <td>https://au.indeed.com/viewjob?jk=c832e75c5d42c...</td>\n",
       "    </tr>\n",
       "    <tr>\n",
       "      <th>112</th>\n",
       "      <td>112</td>\n",
       "      <td>Data &amp; Insights Manager</td>\n",
       "      <td>Johnson &amp; Johnson Family of Companies</td>\n",
       "      <td>Sydney NSW</td>\n",
       "      <td>Nothing Found</td>\n",
       "      <td>Be Vital to this role: Reporting to the Market...</td>\n",
       "      <td>https://au.indeed.com/viewjob?jk=dbf8ad4387618...</td>\n",
       "    </tr>\n",
       "    <tr>\n",
       "      <th>113</th>\n",
       "      <td>113</td>\n",
       "      <td>Principal Data Scientist</td>\n",
       "      <td>Rio Tinto</td>\n",
       "      <td>Perth WA</td>\n",
       "      <td>Nothing Found</td>\n",
       "      <td>The Data Intelligence &amp; Insights (DI&amp;I) team i...</td>\n",
       "      <td>https://au.indeed.com/viewjob?jk=71860c20b928b...</td>\n",
       "    </tr>\n",
       "    <tr>\n",
       "      <th>114</th>\n",
       "      <td>114</td>\n",
       "      <td>Product Manager - Industrial Data Loggers</td>\n",
       "      <td>Thermo Fisher Scientific</td>\n",
       "      <td>Scoresby VIC</td>\n",
       "      <td>Nothing Found</td>\n",
       "      <td>Newly created role Create key selling proposit...</td>\n",
       "      <td>https://au.indeed.com/viewjob?jk=19a2c29c152fd...</td>\n",
       "    </tr>\n",
       "  </tbody>\n",
       "</table>\n",
       "</div>"
      ],
      "text/plain": [
       "     Unnamed: 0                                            Jobs  \\\n",
       "100         100                        Industry Cloud Architect   \n",
       "101         101             Product Manager - Ad Serving & Data   \n",
       "102         102                           Measurement Lead, ANZ   \n",
       "103         103    TITUS Professional Services Consultant, APAC   \n",
       "104         104       Product Manager - Industrial Data Loggers   \n",
       "105         105                     Senior Technical Specialist   \n",
       "106         106                     Clinical Operations Manager   \n",
       "107         107          Senior Professional Solution Architect   \n",
       "108         108                   Directory Solutions Architect   \n",
       "109         109                                    Scrum Master   \n",
       "110         110                       Digital Marketing Manager   \n",
       "111         111  Accenture Big Data Engineer Consultant/Manager   \n",
       "112         112                         Data & Insights Manager   \n",
       "113         113                        Principal Data Scientist   \n",
       "114         114       Product Manager - Industrial Data Loggers   \n",
       "\n",
       "                                 Companies           Locations  \\\n",
       "100                                Vlocity          Sydney NSW   \n",
       "101                               Leadbolt  Bondi Junction NSW   \n",
       "102                               Facebook          Sydney NSW   \n",
       "103                                  Titus          Sydney NSW   \n",
       "104               Thermo Fisher Scientific        Scoresby VIC   \n",
       "105                   Tasmanian Government          Hobart TAS   \n",
       "106                      PRA International           Australia   \n",
       "107                                    CSC         Adelaide SA   \n",
       "108                          Ping Identity          Sydney NSW   \n",
       "109                              Accenture       Melbourne VIC   \n",
       "110  Johnson & Johnson Family of Companies          Sydney NSW   \n",
       "111                              Accenture          Sydney NSW   \n",
       "112  Johnson & Johnson Family of Companies          Sydney NSW   \n",
       "113                              Rio Tinto            Perth WA   \n",
       "114               Thermo Fisher Scientific        Scoresby VIC   \n",
       "\n",
       "                     Salaries  \\\n",
       "100             Nothing Found   \n",
       "101             Nothing Found   \n",
       "102             Nothing Found   \n",
       "103             Nothing Found   \n",
       "104             Nothing Found   \n",
       "105  $87,955 - $99,599 a year   \n",
       "106             Nothing Found   \n",
       "107             Nothing Found   \n",
       "108             Nothing Found   \n",
       "109             Nothing Found   \n",
       "110             Nothing Found   \n",
       "111             Nothing Found   \n",
       "112             Nothing Found   \n",
       "113             Nothing Found   \n",
       "114             Nothing Found   \n",
       "\n",
       "                                             Summaries  \\\n",
       "100  Company Description ------------------- Vlocit...   \n",
       "101  Are you a Product Manager working within the M...   \n",
       "102  (Sydney, Australia - Melbourne, Australia) Fac...   \n",
       "103  TITUS is currently seeking an enthusiastic, re...   \n",
       "104  Job Description Newly created role Create key ...   \n",
       "105  Award/Classification: Tasmanian State Service ...   \n",
       "106  The Manager of Clinical Operations is responsi...   \n",
       "107  DXC Technology (NYSE: DXC) is the world’s lead...   \n",
       "108  At Ping Identity, we're changing the way peopl...   \n",
       "109  Join Accenture and help transform leading orga...   \n",
       "110  Sydney based – North Ryde • Exposure to variou...   \n",
       "111  Your career in Accenture Digital Accenture Big...   \n",
       "112  Be Vital to this role: Reporting to the Market...   \n",
       "113  The Data Intelligence & Insights (DI&I) team i...   \n",
       "114  Newly created role Create key selling proposit...   \n",
       "\n",
       "                                             Link_Page  \n",
       "100  https://au.indeed.com/viewjob?jk=5f119af2536d9...  \n",
       "101  https://au.indeed.com/viewjob?jk=90dbd2afe351b...  \n",
       "102  https://au.indeed.com/viewjob?jk=02abeee531dcd...  \n",
       "103  https://au.indeed.com/viewjob?jk=82f392e962fe1...  \n",
       "104  https://au.indeed.com/viewjob?jk=95ff6cb727e5d...  \n",
       "105  https://au.indeed.com/viewjob?jk=b64d9f39c9bda...  \n",
       "106  https://au.indeed.com/viewjob?jk=04908d5e44f9b...  \n",
       "107  https://au.indeed.com/viewjob?jk=2aa12f1013851...  \n",
       "108  https://au.indeed.com/viewjob?jk=3d6d05a7eacf2...  \n",
       "109  https://au.indeed.com/viewjob?jk=ecf90f577bc8b...  \n",
       "110  https://au.indeed.com/viewjob?jk=17bce6ca9b8d1...  \n",
       "111  https://au.indeed.com/viewjob?jk=c832e75c5d42c...  \n",
       "112  https://au.indeed.com/viewjob?jk=dbf8ad4387618...  \n",
       "113  https://au.indeed.com/viewjob?jk=71860c20b928b...  \n",
       "114  https://au.indeed.com/viewjob?jk=19a2c29c152fd...  "
      ]
     },
     "execution_count": 58,
     "metadata": {},
     "output_type": "execute_result"
    }
   ],
   "source": [
    "raw_data = pd.read_csv('Indeed_Data Science.csv')\n",
    "raw_data.iloc[100:115,:]"
   ]
  },
  {
   "cell_type": "code",
   "execution_count": 66,
   "metadata": {},
   "outputs": [
    {
     "data": {
      "text/plain": [
       "array([ \"Company Description ------------------- Vlocity is a fast-growing enterprise applications company focused on bringing industry-specific business processes to the cloud. With 300 employees around the world and customers on six continents, Vlocity has been the fastest-growing independent software vendor on the Salesforce platform for two years running. Vlocity is currently shipping version 15 of its application suite, and has raised over $100MM in capital from investors including Salesforce.com, Accenture and Sutter Hill Ventures. Vlocity develops software to help communications, media & energy providers, insurance carriers and government agencies digitally engage customers through their channels and devices of choice. We serve dozens of the world’s Fortune 5000 companies including Sky Italia, Telecom Italia, TELUS, 3, Telecom Argentina, Cellcom, New York Life, Farmers Insurance, Harvard Pilgrim, and Anthem. Our solutions run on our customers’ web sites, in their contact centers and on the mobile devices of their service and sales professionals – providing a compelling, modern, omnichannel experience. Despite the complexity and sophistication of the enterprise business processes we enable, we believe the user experience should be as simple and compelling as a consumer application. Job Description --------------- Vlocity is growing exponentially. We are looking to expand our Customer Success team by hiring talented and enthusiastic Solution Architects. Vlocity’s goal is to deliver rapid, value-driven customer solutions for complex business problems. Our Industry Cloud Architects play a key role in determining the optimal use of the Vlocity product in the customer environment. Your responsibility will be to align the customer’s business requirements to the native Vlocity functionality and to construct a development plan that will deliver the desired solution. You will have a deep knowledge of the core business processes and best practices in the customer’s industry - and you’ll enhance that by acquiring an understanding of the specific business drivers for their program. A collaborative and empathetic relationship with the business stakeholders will be central to your role. Your commitment to their success should never be in doubt. You’ll also be working with developers, typically in Agile scrum teams, helping them convert the business requirements into technical activities and verifying that their deliverables satisfy the acceptance criteria. And you’ll be a key channel back to the Vlocity product management team as they look to drive innovation and improvements into future releases of the Vlocity products. Experience You’ll have 5+ years’ experience of working on deployment teams, ideally using Agile development techniques. You’ll have a proven track record of successful delivery of customer projects, preferably enterprise CRM implementations. You will have extensive experience of at least one of our industry sectors - telecommunications, media, insurance, healthcare or public sector. You’ll be a self-starter, adept at picking up new skills and technologies, and eager to break new ground. You’ll have excellent communication skills, equally comfortable with crafting emails as leading a white-board discussion with customers, or delivering a functional demo. You’ll have the vision to help us take our company to the next level. Technical Skills In-depth knowledge of key processes in industry-specific CRM solutions (e.g. Quote to Order, MACD, Policy Management) Process modelling tools and best practices Project management tools and best practices Data modelling Systems analysis and design Desired Certifications / Qualifications Bachelor's or Master's degree in Computer Science, Software Engineering, Business or a related field Salesforce Sales/Service Cloud Consultant Salesforce Administrator Certified Scrum Master / Certified Product Owner 27 days ago - save job - original job View or apply to job Other jobs you may like Systems Architect Michael Page - Sydney NSW Michael Page AU - 3 days ago Technical Architect/Lead (RoR) JCurve Solutions - Chatswood NSW 1 day ago Cloud Enterprise Architect Hays - Sydney Central Business District NSW 5 days ago Information Architect Robert Walters - Sydney NSW 2 days ago Solutions Architect - Data Privacy Sirius Recruitment - Sydney NSW 4 days ago Easily apply to this job »See more recommended jobs - 38 new Industry Cloud Architect jobs in Sydney NSW Jobs at Vlocity in Sydney NSW\"], dtype=object)"
      ]
     },
     "execution_count": 66,
     "metadata": {},
     "output_type": "execute_result"
    }
   ],
   "source": [
    "raw_data.iloc[100:101,:].Summaries.values"
   ]
  },
  {
   "cell_type": "markdown",
   "metadata": {},
   "source": [
    "As the scraper get the Link pages for reference only, I dont need this to include in the prediction so I drop it. I also include all the csv files that i scraped from Indeed"
   ]
  },
  {
   "cell_type": "code",
   "execution_count": 3,
   "metadata": {
    "collapsed": true
   },
   "outputs": [],
   "source": [
    "files = ['Indeed_Data Science1.csv','Indeed_Data Science3.csv','Indeed_Data Scientist.csv','Indeed_Data Engineer.csv',\n",
    "        'Indeed_Business Analyst.csv','Indeed_Business Analyst1.csv','Indeed_Data Analyst.csv','Indeed_Machine Learning.csv']"
   ]
  },
  {
   "cell_type": "markdown",
   "metadata": {},
   "source": [
    "Overall data are (8270, 5)\n",
    "\n",
    "After changing only those who have Salaries only  data drops to (1893, 5)\n",
    "\n",
    "Also cleaned those commas and $ sign in salary\n",
    "\n",
    "The cleaning took some time as duplicated() really didnt do the job well. Mostly of them i manually drop by keeping up at the value_counts of each columns\n",
    "\n",
    "\n",
    "I decided to convert all those hour, days, weekly and monthly to yearly rate salary based on https://www.paycalculator.com.au"
   ]
  },
  {
   "cell_type": "markdown",
   "metadata": {},
   "source": [
    "for row in range(len(salaries)):\n",
    "    value = salaries.iloc[row,3]\n",
    "\n",
    "    if value.find('a day') != -1:\n",
    "        newvalue = value.replace('a day','')\n",
    "        newvalue = newvalue.replace(' ','')\n",
    "        if value.find('-') != -1:\n",
    "            values = newvalue.split('-')\n",
    "            newvalue = (float(values[0])+float(values[1]))/2\n",
    "        newvalue = (float(newvalue) * 5) * 250\n",
    "        salaries.iloc[row,3] = newvalue\n",
    "    if value.find('a week') != -1:\n",
    "        newvalue = value.replace('a week','')\n",
    "        newvalue = newvalue.replace(' ','')\n",
    "        if value.find('-') != -1:\n",
    "            values = newvalue.split('-')\n",
    "            newvalue = (float(values[0])+float(values[1]))/2\n",
    "        newvalue = float(newvalue) * 52\n",
    "        salaries.iloc[row,3] = newvalue\n",
    "    if value.find('a year') != -1:\n",
    "        newvalue = value.replace('a year','')\n",
    "        newvalue = newvalue.replace(' ','')\n",
    "        if value.find('-') != -1:\n",
    "            values = newvalue.split('-')\n",
    "            newvalue = (float(values[0])+float(values[1]))/2\n",
    "        salaries.iloc[row,3] = float(newvalue)\n",
    "    if value.find('an hour') != -1:\n",
    "        newvalue = value.replace('an hour','')\n",
    "        newvalue = newvalue.replace(' ','')\n",
    "        if value.find('-') != -1:\n",
    "            values = newvalue.split('-')\n",
    "            newvalue = (float(values[0])+float(values[1]))/2\n",
    "        newvalue = ((float(newvalue) * 8) * 5)*250\n",
    "        salaries.iloc[row,3] = newvalue\n",
    "    if value.find('a month') != -1:\n",
    "        newvalue = value.replace('a month','')\n",
    "        newvalue = newvalue.replace(' ','')\n",
    "        if value.find('-') != -1:\n",
    "            values = newvalue.split('-')\n",
    "            newvalue = (float(values[0])+float(values[1]))/2\n",
    "        newvalue = float(newvalue) * 12\n",
    "        salaries.iloc[row,3] = newvalue"
   ]
  },
  {
   "cell_type": "markdown",
   "metadata": {},
   "source": [
    "After converting salary to float I saved this as Cleaned.csv"
   ]
  },
  {
   "cell_type": "markdown",
   "metadata": {},
   "source": [
    "### Cleaning of city data happened at City.ipynb included in this folder"
   ]
  },
  {
   "cell_type": "markdown",
   "metadata": {},
   "source": [
    "I decided to based my prediction to high and low salary based on https://www.payscale.com/research/AU/Job=Data_Scientist%2C_IT/Salary that Data Scientist have average of AU$92,667/year"
   ]
  },
  {
   "cell_type": "code",
   "execution_count": 2,
   "metadata": {
    "collapsed": true
   },
   "outputs": [],
   "source": [
    "df = pd.read_csv('Cleaned_City.csv')"
   ]
  },
  {
   "cell_type": "code",
   "execution_count": 3,
   "metadata": {},
   "outputs": [
    {
     "data": {
      "text/html": [
       "<div>\n",
       "<style>\n",
       "    .dataframe thead tr:only-child th {\n",
       "        text-align: right;\n",
       "    }\n",
       "\n",
       "    .dataframe thead th {\n",
       "        text-align: left;\n",
       "    }\n",
       "\n",
       "    .dataframe tbody tr th {\n",
       "        vertical-align: top;\n",
       "    }\n",
       "</style>\n",
       "<table border=\"1\" class=\"dataframe\">\n",
       "  <thead>\n",
       "    <tr style=\"text-align: right;\">\n",
       "      <th></th>\n",
       "      <th>Jobs</th>\n",
       "      <th>Companies</th>\n",
       "      <th>Salaries</th>\n",
       "      <th>Summaries</th>\n",
       "      <th>high_salary</th>\n",
       "      <th>City</th>\n",
       "    </tr>\n",
       "  </thead>\n",
       "  <tbody>\n",
       "    <tr>\n",
       "      <th>0</th>\n",
       "      <td>Student - Data Officer, Community Planning</td>\n",
       "      <td>Moonee Valley City Council</td>\n",
       "      <td>339000.0</td>\n",
       "      <td>Student Data Officer, Community Planning Refer...</td>\n",
       "      <td>1</td>\n",
       "      <td>Melbourne , VIC</td>\n",
       "    </tr>\n",
       "    <tr>\n",
       "      <th>1</th>\n",
       "      <td>Solutions Architect</td>\n",
       "      <td>Pythian</td>\n",
       "      <td>165000.0</td>\n",
       "      <td>Job Summary Why Pythian? Pythian is a global I...</td>\n",
       "      <td>1</td>\n",
       "      <td>Sydney , NSW</td>\n",
       "    </tr>\n",
       "    <tr>\n",
       "      <th>2</th>\n",
       "      <td>Manager, Insights</td>\n",
       "      <td>State Trustees Limited</td>\n",
       "      <td>116647.0</td>\n",
       "      <td>Located at our Head Office in Footscray (10 mi...</td>\n",
       "      <td>1</td>\n",
       "      <td>Melbourne , VIC</td>\n",
       "    </tr>\n",
       "    <tr>\n",
       "      <th>3</th>\n",
       "      <td>PhD Scholarship – Big Data Analytics for Oil D...</td>\n",
       "      <td>Swinburne University of Technology</td>\n",
       "      <td>25849.0</td>\n",
       "      <td>Faculty of Science, Engineering and Technology...</td>\n",
       "      <td>0</td>\n",
       "      <td>Melbourne , VIC</td>\n",
       "    </tr>\n",
       "    <tr>\n",
       "      <th>4</th>\n",
       "      <td>STRUCTURAL TECHNOLOGY SPECIALIST</td>\n",
       "      <td>VicRoads</td>\n",
       "      <td>118388.5</td>\n",
       "      <td>About VicRoads Victoria has embarked on a once...</td>\n",
       "      <td>1</td>\n",
       "      <td>Kew East , VIC</td>\n",
       "    </tr>\n",
       "  </tbody>\n",
       "</table>\n",
       "</div>"
      ],
      "text/plain": [
       "                                                Jobs  \\\n",
       "0         Student - Data Officer, Community Planning   \n",
       "1                                Solutions Architect   \n",
       "2                                  Manager, Insights   \n",
       "3  PhD Scholarship – Big Data Analytics for Oil D...   \n",
       "4                   STRUCTURAL TECHNOLOGY SPECIALIST   \n",
       "\n",
       "                            Companies  Salaries  \\\n",
       "0          Moonee Valley City Council  339000.0   \n",
       "1                             Pythian  165000.0   \n",
       "2              State Trustees Limited  116647.0   \n",
       "3  Swinburne University of Technology   25849.0   \n",
       "4                            VicRoads  118388.5   \n",
       "\n",
       "                                           Summaries  high_salary  \\\n",
       "0  Student Data Officer, Community Planning Refer...            1   \n",
       "1  Job Summary Why Pythian? Pythian is a global I...            1   \n",
       "2  Located at our Head Office in Footscray (10 mi...            1   \n",
       "3  Faculty of Science, Engineering and Technology...            0   \n",
       "4  About VicRoads Victoria has embarked on a once...            1   \n",
       "\n",
       "              City  \n",
       "0  Melbourne , VIC  \n",
       "1     Sydney , NSW  \n",
       "2  Melbourne , VIC  \n",
       "3  Melbourne , VIC  \n",
       "4   Kew East , VIC  "
      ]
     },
     "execution_count": 3,
     "metadata": {},
     "output_type": "execute_result"
    }
   ],
   "source": [
    "df.drop('Unnamed: 0',axis=1,inplace=True)\n",
    "df.drop('Locations',axis=1,inplace=True)\n",
    "df.head()"
   ]
  },
  {
   "cell_type": "code",
   "execution_count": 4,
   "metadata": {},
   "outputs": [
    {
     "data": {
      "text/plain": [
       "92667"
      ]
     },
     "execution_count": 4,
     "metadata": {},
     "output_type": "execute_result"
    }
   ],
   "source": [
    "median_salary = 92667\n",
    "median_salary"
   ]
  },
  {
   "cell_type": "markdown",
   "metadata": {
    "collapsed": true
   },
   "source": [
    "### City random forest"
   ]
  },
  {
   "cell_type": "code",
   "execution_count": 5,
   "metadata": {},
   "outputs": [
    {
     "name": "stdout",
     "output_type": "stream",
     "text": [
      "Accuracy Score: 0.699\n",
      "Cross Validation Score:\t0.661 ± 0.024\n"
     ]
    }
   ],
   "source": [
    "city_dummies = pd.get_dummies(df.City)\n",
    "\n",
    "X_city = city_dummies\n",
    "y_city = df.high_salary\n",
    "\n",
    "X_train, X_test, y_train, y_test = train_test_split(X_city, y_city, test_size=0.3, random_state=90)\n",
    "\n",
    "rfc = RandomForestClassifier(n_estimators=300, random_state=90)\n",
    "rfc.fit(X_train, y_train)\n",
    "\n",
    "rfc_pred = rfc.predict(X_test)\n",
    "acc = accuracy_score(y_test, rfc_pred)\n",
    "print(\"Accuracy Score:\", acc.round(3))\n",
    "\n",
    "s = cross_val_score(rfc, X_city, y_city, cv=10, n_jobs=-1)\n",
    "print(\"Cross Validation Score:\\t{:0.3} ± {:0.3}\".format(s.mean().round(3), s.std().round(3)))"
   ]
  },
  {
   "cell_type": "code",
   "execution_count": 6,
   "metadata": {},
   "outputs": [
    {
     "data": {
      "text/html": [
       "<div>\n",
       "<style>\n",
       "    .dataframe thead tr:only-child th {\n",
       "        text-align: right;\n",
       "    }\n",
       "\n",
       "    .dataframe thead th {\n",
       "        text-align: left;\n",
       "    }\n",
       "\n",
       "    .dataframe tbody tr th {\n",
       "        vertical-align: top;\n",
       "    }\n",
       "</style>\n",
       "<table border=\"1\" class=\"dataframe\">\n",
       "  <thead>\n",
       "    <tr style=\"text-align: right;\">\n",
       "      <th></th>\n",
       "      <th>feature</th>\n",
       "      <th>importance</th>\n",
       "      <th>median_salary</th>\n",
       "      <th>over_or_under</th>\n",
       "    </tr>\n",
       "  </thead>\n",
       "  <tbody>\n",
       "    <tr>\n",
       "      <th>84</th>\n",
       "      <td>Sydney , NSW</td>\n",
       "      <td>0.113798</td>\n",
       "      <td>120000.0</td>\n",
       "      <td>1</td>\n",
       "    </tr>\n",
       "    <tr>\n",
       "      <th>37</th>\n",
       "      <td>Hobart , TAS</td>\n",
       "      <td>0.041932</td>\n",
       "      <td>85500.0</td>\n",
       "      <td>0</td>\n",
       "    </tr>\n",
       "    <tr>\n",
       "      <th>42</th>\n",
       "      <td>Mackay , QLD</td>\n",
       "      <td>0.037751</td>\n",
       "      <td>66500.0</td>\n",
       "      <td>0</td>\n",
       "    </tr>\n",
       "    <tr>\n",
       "      <th>70</th>\n",
       "      <td>Parramatta , NSW</td>\n",
       "      <td>0.027646</td>\n",
       "      <td>700000.0</td>\n",
       "      <td>1</td>\n",
       "    </tr>\n",
       "    <tr>\n",
       "      <th>5</th>\n",
       "      <td>Ballarat , VIC</td>\n",
       "      <td>0.026841</td>\n",
       "      <td>80000.0</td>\n",
       "      <td>0</td>\n",
       "    </tr>\n",
       "    <tr>\n",
       "      <th>53</th>\n",
       "      <td>Milton , QLD</td>\n",
       "      <td>0.026804</td>\n",
       "      <td>88750.0</td>\n",
       "      <td>0</td>\n",
       "    </tr>\n",
       "    <tr>\n",
       "      <th>30</th>\n",
       "      <td>Edgecliff , NSW</td>\n",
       "      <td>0.023790</td>\n",
       "      <td>61250.0</td>\n",
       "      <td>0</td>\n",
       "    </tr>\n",
       "    <tr>\n",
       "      <th>22</th>\n",
       "      <td>Clayton , VIC</td>\n",
       "      <td>0.022801</td>\n",
       "      <td>71789.5</td>\n",
       "      <td>0</td>\n",
       "    </tr>\n",
       "    <tr>\n",
       "      <th>69</th>\n",
       "      <td>Parkville , VIC</td>\n",
       "      <td>0.021691</td>\n",
       "      <td>81489.0</td>\n",
       "      <td>0</td>\n",
       "    </tr>\n",
       "    <tr>\n",
       "      <th>0</th>\n",
       "      <td>Adelaide , SA</td>\n",
       "      <td>0.017540</td>\n",
       "      <td>82933.0</td>\n",
       "      <td>0</td>\n",
       "    </tr>\n",
       "    <tr>\n",
       "      <th>47</th>\n",
       "      <td>Melbourne , VIC</td>\n",
       "      <td>0.016465</td>\n",
       "      <td>100000.0</td>\n",
       "      <td>1</td>\n",
       "    </tr>\n",
       "    <tr>\n",
       "      <th>71</th>\n",
       "      <td>Perth , WA</td>\n",
       "      <td>0.016167</td>\n",
       "      <td>95750.0</td>\n",
       "      <td>1</td>\n",
       "    </tr>\n",
       "    <tr>\n",
       "      <th>82</th>\n",
       "      <td>St Lucia , QLD</td>\n",
       "      <td>0.014916</td>\n",
       "      <td>84540.0</td>\n",
       "      <td>0</td>\n",
       "    </tr>\n",
       "    <tr>\n",
       "      <th>61</th>\n",
       "      <td>No City, New South Wales</td>\n",
       "      <td>0.014798</td>\n",
       "      <td>718750.0</td>\n",
       "      <td>1</td>\n",
       "    </tr>\n",
       "    <tr>\n",
       "      <th>16</th>\n",
       "      <td>Caulfield , VIC</td>\n",
       "      <td>0.014556</td>\n",
       "      <td>104231.5</td>\n",
       "      <td>1</td>\n",
       "    </tr>\n",
       "  </tbody>\n",
       "</table>\n",
       "</div>"
      ],
      "text/plain": [
       "                     feature  importance  median_salary  over_or_under\n",
       "84              Sydney , NSW    0.113798       120000.0              1\n",
       "37              Hobart , TAS    0.041932        85500.0              0\n",
       "42              Mackay , QLD    0.037751        66500.0              0\n",
       "70          Parramatta , NSW    0.027646       700000.0              1\n",
       "5             Ballarat , VIC    0.026841        80000.0              0\n",
       "53              Milton , QLD    0.026804        88750.0              0\n",
       "30           Edgecliff , NSW    0.023790        61250.0              0\n",
       "22             Clayton , VIC    0.022801        71789.5              0\n",
       "69           Parkville , VIC    0.021691        81489.0              0\n",
       "0              Adelaide , SA    0.017540        82933.0              0\n",
       "47           Melbourne , VIC    0.016465       100000.0              1\n",
       "71                Perth , WA    0.016167        95750.0              1\n",
       "82            St Lucia , QLD    0.014916        84540.0              0\n",
       "61  No City, New South Wales    0.014798       718750.0              1\n",
       "16           Caulfield , VIC    0.014556       104231.5              1"
      ]
     },
     "execution_count": 6,
     "metadata": {},
     "output_type": "execute_result"
    }
   ],
   "source": [
    "feature_importances = pd.DataFrame(rfc.feature_importances_,\n",
    "                                   index = X_city.columns).reset_index()\n",
    "feature_importances.columns = ['feature', 'importance']\n",
    "\n",
    "feature_medians = []\n",
    "for i in X_city.columns:\n",
    "    feature_medians.append(np.median(df[df.City == i].Salaries))\n",
    "\n",
    "feature_importances['median_salary'] = feature_medians\n",
    "feature_importances['over_or_under'] = [1 if i > median_salary else 0 for i in feature_importances.median_salary]\n",
    "\n",
    "feature_importances.sort_values('importance', ascending=False).head(15)"
   ]
  },
  {
   "cell_type": "code",
   "execution_count": 7,
   "metadata": {
    "collapsed": true
   },
   "outputs": [],
   "source": [
    "feat_city = feature_importances.sort_values('importance', ascending=False).head(15)\n",
    "feat_city.drop('median_salary',axis=1,inplace=True)\n",
    "feat_city.drop('over_or_under',axis=1,inplace=True)"
   ]
  },
  {
   "cell_type": "code",
   "execution_count": 8,
   "metadata": {
    "collapsed": true
   },
   "outputs": [],
   "source": [
    "feat_city = feat_city.set_index('feature')"
   ]
  },
  {
   "cell_type": "code",
   "execution_count": 9,
   "metadata": {},
   "outputs": [
    {
     "data": {
      "image/png": "[encoded data removed]",
      "text/plain": [
       "<matplotlib.figure.Figure at 0x10fa7bb70>"
      ]
     },
     "metadata": {
      "image/png": {
       "height": 370,
       "width": 750
      }
     },
     "output_type": "display_data"
    }
   ],
   "source": [
    "plt.figure(figsize=(10,6))\n",
    "sns.barplot(data = feat_city.iloc[0:10].sort_values(by = 'importance', ascending = False).T, orient='h')\n",
    "plt.title(\"Top City\")\n",
    "plt.show()"
   ]
  },
  {
   "cell_type": "markdown",
   "metadata": {
    "collapsed": true
   },
   "source": [
    "### Summary Count Vectorizer"
   ]
  },
  {
   "cell_type": "code",
   "execution_count": 10,
   "metadata": {},
   "outputs": [
    {
     "data": {
      "text/plain": [
       "data          1884\n",
       "business      1828\n",
       "experience    1560\n",
       "nsw           1553\n",
       "sydney        1457\n",
       "research      1205\n",
       "analyst       1172\n",
       "skills         853\n",
       "team           841\n",
       "engineer       771\n",
       "dtype: int64"
      ]
     },
     "execution_count": 10,
     "metadata": {},
     "output_type": "execute_result"
    }
   ],
   "source": [
    "salaries_w_desc = df[df.Summaries.notnull()]\n",
    "\n",
    "X_summ = salaries_w_desc.Summaries\n",
    "y_summ = salaries_w_desc.high_salary\n",
    "\n",
    "except_words = ['ago','days','apply','work','working','like','ing','new','job','save','australia','position',\n",
    "               'strong','role','includ','original','day','requirements','30','jobs','au','view','000','00','fixed',\n",
    "               'description','centre','required','location','type','range','time','salary','arments','plus','15',\n",
    "               'related','successful']\n",
    "\n",
    "for e in except_words:\n",
    "    X_summ = X_summ.str.replace(e,'')\n",
    "    \n",
    "cv = CountVectorizer(stop_words=\"english\")\n",
    "cv.fit(X_summ)\n",
    "\n",
    "X_summ_trans = pd.DataFrame(cv.transform(X_summ).todense(), columns=cv.get_feature_names())\n",
    "\n",
    "X_train, X_test, y_train, y_test = train_test_split(np.asmatrix(X_summ_trans), y_summ, test_size=0.3,\n",
    "                                                    random_state=59, stratify=y_summ)\n",
    "\n",
    "word_counts = X_summ_trans.sum(axis=0)\n",
    "word_counts.sort_values(ascending = False).head(10)"
   ]
  },
  {
   "cell_type": "code",
   "execution_count": 11,
   "metadata": {},
   "outputs": [
    {
     "name": "stdout",
     "output_type": "stream",
     "text": [
      "Accuracy Score: 0.735\n",
      "Cross Validation Score: 0.733 ± 0.047\n"
     ]
    }
   ],
   "source": [
    "rfc = RandomForestClassifier(200, random_state=59)\n",
    "rfc.fit(X_train, y_train)\n",
    "\n",
    "rfc_pred = rfc.predict(X_test)\n",
    "acc = accuracy_score(y_test, rfc_pred)\n",
    "print(\"Accuracy Score:\", acc.round(3))\n",
    "\n",
    "s = cross_val_score(rfc, X_summ_trans.as_matrix(), y_summ.as_matrix(), cv=10, n_jobs=-1)\n",
    "print(\"Cross Validation Score: {:0.3} ± {:0.3}\".format(s.mean().round(3), s.std().round(3)))"
   ]
  },
  {
   "cell_type": "code",
   "execution_count": null,
   "metadata": {},
   "outputs": [
    {
     "name": "stderr",
     "output_type": "stream",
     "text": [
      "/anaconda3/lib/python3.6/site-packages/numpy/core/fromnumeric.py:2909: RuntimeWarning: Mean of empty slice.\n",
      "  out=out, **kwargs)\n",
      "/anaconda3/lib/python3.6/site-packages/numpy/core/_methods.py:80: RuntimeWarning: invalid value encountered in double_scalars\n",
      "  ret = ret.dtype.type(ret / rcount)\n"
     ]
    }
   ],
   "source": [
    "feature_importances = pd.DataFrame(rfc.feature_importances_,\n",
    "                                   index = X_summ_trans.columns).reset_index()\n",
    "feature_importances.columns = ['feature', 'importance']\n",
    "\n",
    "feature_medians = []\n",
    "feature_means = []\n",
    "for i in X_summ_trans.columns:\n",
    "    feature_medians.append(np.median(salaries_w_desc[salaries_w_desc.Summaries.str.lower().str.contains(i)].Salaries))\n",
    "    feature_means.append(np.mean(salaries_w_desc[salaries_w_desc.Summaries.str.lower().str.contains(i)].Salaries))\n",
    "\n",
    "\n",
    "feature_importances['median_salary'] = feature_medians\n",
    "feature_importances['mean_salary'] = feature_means\n",
    "feature_importances['over_or_under'] = [1 if i > median_salary else 0 for i in feature_importances.median_salary]\n",
    "\n",
    "feature_importances.sort_values('importance', ascending=False).head(20)"
   ]
  },
  {
   "cell_type": "markdown",
   "metadata": {
    "collapsed": true
   },
   "source": [
    "### Title Count Random Forest"
   ]
  },
  {
   "cell_type": "code",
   "execution_count": 12,
   "metadata": {},
   "outputs": [
    {
     "name": "stdout",
     "output_type": "stream",
     "text": [
      "Accuracy Score: 0.708\n",
      "Cross Validation Score: 0.712 ± 0.059\n"
     ]
    }
   ],
   "source": [
    "salaries_w_desc = df[df.Jobs.notnull()]\n",
    "\n",
    "X_title = salaries_w_desc.Jobs\n",
    "y_title = salaries_w_desc.high_salary\n",
    "\n",
    "except_words = ['bi','aps6','pricing']\n",
    "\n",
    "for e in except_words:\n",
    "    X_title = X_title.str.replace(e,'')\n",
    "    \n",
    "X_title_trans = pd.DataFrame(cv.transform(X_title).todense(), columns=cv.get_feature_names())\n",
    "\n",
    "X_train, X_test, y_train, y_test = train_test_split(X_title_trans, y_title, test_size=0.3, random_state=59)\n",
    "\n",
    "rfc = RandomForestClassifier(200, random_state=59)\n",
    "rfc.fit(X_train, y_train)\n",
    "\n",
    "rfc_pred = rfc.predict(X_test)\n",
    "acc = accuracy_score(y_test, rfc_pred)\n",
    "print(\"Accuracy Score:\", acc.round(3))\n",
    "\n",
    "s = cross_val_score(rfc, X_title_trans.as_matrix(), y_title.as_matrix(), cv=10, n_jobs=-1)\n",
    "print(\"Cross Validation Score: {:0.3} ± {:0.3}\".format(s.mean().round(3), s.std().round(3)))"
   ]
  },
  {
   "cell_type": "code",
   "execution_count": 19,
   "metadata": {},
   "outputs": [
    {
     "name": "stderr",
     "output_type": "stream",
     "text": [
      "/anaconda3/lib/python3.6/site-packages/numpy/core/fromnumeric.py:2909: RuntimeWarning: Mean of empty slice.\n",
      "  out=out, **kwargs)\n",
      "/anaconda3/lib/python3.6/site-packages/numpy/core/_methods.py:80: RuntimeWarning: invalid value encountered in double_scalars\n",
      "  ret = ret.dtype.type(ret / rcount)\n"
     ]
    },
    {
     "data": {
      "text/html": [
       "<div>\n",
       "<style>\n",
       "    .dataframe thead tr:only-child th {\n",
       "        text-align: right;\n",
       "    }\n",
       "\n",
       "    .dataframe thead th {\n",
       "        text-align: left;\n",
       "    }\n",
       "\n",
       "    .dataframe tbody tr th {\n",
       "        vertical-align: top;\n",
       "    }\n",
       "</style>\n",
       "<table border=\"1\" class=\"dataframe\">\n",
       "  <thead>\n",
       "    <tr style=\"text-align: right;\">\n",
       "      <th></th>\n",
       "      <th>feature</th>\n",
       "      <th>importance</th>\n",
       "      <th>median_salary</th>\n",
       "      <th>mean_salary</th>\n",
       "      <th>over_or_under</th>\n",
       "    </tr>\n",
       "  </thead>\n",
       "  <tbody>\n",
       "    <tr>\n",
       "      <th>1847</th>\n",
       "      <td>business</td>\n",
       "      <td>0.028677</td>\n",
       "      <td>122500.0</td>\n",
       "      <td>377684.677515</td>\n",
       "      <td>1</td>\n",
       "    </tr>\n",
       "    <tr>\n",
       "      <th>7831</th>\n",
       "      <td>senior</td>\n",
       "      <td>0.025504</td>\n",
       "      <td>125000.0</td>\n",
       "      <td>254876.297980</td>\n",
       "      <td>1</td>\n",
       "    </tr>\n",
       "    <tr>\n",
       "      <th>1140</th>\n",
       "      <td>analyst</td>\n",
       "      <td>0.024007</td>\n",
       "      <td>109037.0</td>\n",
       "      <td>295511.345201</td>\n",
       "      <td>1</td>\n",
       "    </tr>\n",
       "    <tr>\n",
       "      <th>2821</th>\n",
       "      <td>data</td>\n",
       "      <td>0.020447</td>\n",
       "      <td>118565.5</td>\n",
       "      <td>256014.017241</td>\n",
       "      <td>1</td>\n",
       "    </tr>\n",
       "    <tr>\n",
       "      <th>6213</th>\n",
       "      <td>officer</td>\n",
       "      <td>0.017683</td>\n",
       "      <td>86829.0</td>\n",
       "      <td>133085.396552</td>\n",
       "      <td>0</td>\n",
       "    </tr>\n",
       "    <tr>\n",
       "      <th>7442</th>\n",
       "      <td>research</td>\n",
       "      <td>0.015743</td>\n",
       "      <td>91590.0</td>\n",
       "      <td>113160.050725</td>\n",
       "      <td>0</td>\n",
       "    </tr>\n",
       "    <tr>\n",
       "      <th>4242</th>\n",
       "      <td>graduate</td>\n",
       "      <td>0.015206</td>\n",
       "      <td>60000.0</td>\n",
       "      <td>63928.571429</td>\n",
       "      <td>0</td>\n",
       "    </tr>\n",
       "    <tr>\n",
       "      <th>5097</th>\n",
       "      <td>junior</td>\n",
       "      <td>0.013382</td>\n",
       "      <td>85500.0</td>\n",
       "      <td>128394.736842</td>\n",
       "      <td>0</td>\n",
       "    </tr>\n",
       "    <tr>\n",
       "      <th>4158</th>\n",
       "      <td>geospatial</td>\n",
       "      <td>0.012262</td>\n",
       "      <td>85500.0</td>\n",
       "      <td>79662.200000</td>\n",
       "      <td>0</td>\n",
       "    </tr>\n",
       "    <tr>\n",
       "      <th>1361</th>\n",
       "      <td>assistant</td>\n",
       "      <td>0.011394</td>\n",
       "      <td>75025.0</td>\n",
       "      <td>124492.333333</td>\n",
       "      <td>0</td>\n",
       "    </tr>\n",
       "  </tbody>\n",
       "</table>\n",
       "</div>"
      ],
      "text/plain": [
       "         feature  importance  median_salary    mean_salary  over_or_under\n",
       "1847    business    0.028677       122500.0  377684.677515              1\n",
       "7831      senior    0.025504       125000.0  254876.297980              1\n",
       "1140     analyst    0.024007       109037.0  295511.345201              1\n",
       "2821        data    0.020447       118565.5  256014.017241              1\n",
       "6213     officer    0.017683        86829.0  133085.396552              0\n",
       "7442    research    0.015743        91590.0  113160.050725              0\n",
       "4242    graduate    0.015206        60000.0   63928.571429              0\n",
       "5097      junior    0.013382        85500.0  128394.736842              0\n",
       "4158  geospatial    0.012262        85500.0   79662.200000              0\n",
       "1361   assistant    0.011394        75025.0  124492.333333              0"
      ]
     },
     "execution_count": 19,
     "metadata": {},
     "output_type": "execute_result"
    }
   ],
   "source": [
    "feature_importances = pd.DataFrame(rfc.feature_importances_,\n",
    "                                   index = X_title_trans.columns).reset_index()\n",
    "feature_importances.columns = ['feature', 'importance']\n",
    "\n",
    "feature_medians = []\n",
    "feature_means = []\n",
    "for i in X_title_trans.columns:\n",
    "    feature_medians.append(np.median(salaries_w_desc[salaries_w_desc.Jobs.str.lower().str.contains(i)].Salaries))\n",
    "    feature_means.append(np.mean(salaries_w_desc[salaries_w_desc.Jobs.str.lower().str.contains(i)].Salaries))\n",
    "\n",
    "\n",
    "feature_importances['median_salary'] = feature_medians\n",
    "feature_importances['mean_salary'] = feature_means\n",
    "feature_importances['over_or_under'] = [1 if i > median_salary else 0 for i in feature_importances.median_salary]\n",
    "\n",
    "feature_importances.sort_values('importance', ascending=False).head(10)"
   ]
  },
  {
   "cell_type": "code",
   "execution_count": 24,
   "metadata": {
    "collapsed": true
   },
   "outputs": [],
   "source": [
    "feat_title = feature_importances.sort_values('importance', ascending=False).head(15)\n",
    "feat_title.drop('median_salary',axis=1,inplace=True)\n",
    "feat_title.drop('mean_salary',axis=1,inplace=True)\n",
    "feat_title.drop('over_or_under',axis=1,inplace=True)\n",
    "feat_title = feat_title.set_index('feature')"
   ]
  },
  {
   "cell_type": "code",
   "execution_count": 25,
   "metadata": {},
   "outputs": [
    {
     "data": {
      "image/png": "[encoded data removed]",
      "text/plain": [
       "<matplotlib.figure.Figure at 0x110574550>"
      ]
     },
     "metadata": {
      "image/png": {
       "height": 370,
       "width": 724
      }
     },
     "output_type": "display_data"
    }
   ],
   "source": [
    "plt.figure(figsize=(10,6))\n",
    "sns.barplot(data = feat_title.iloc[0:10].sort_values(by = 'importance', ascending = False).T, orient='h')\n",
    "plt.title(\"Top Title\")\n",
    "plt.show()"
   ]
  },
  {
   "cell_type": "markdown",
   "metadata": {
    "collapsed": true
   },
   "source": [
    "### Combining Title CV, Summary CV, and Location"
   ]
  },
  {
   "cell_type": "code",
   "execution_count": 26,
   "metadata": {
    "collapsed": true
   },
   "outputs": [],
   "source": [
    "salaries_w_desc = df[df.Summaries.notnull()].reset_index()\n",
    "city_dummies = pd.get_dummies(salaries_w_desc.City)\n",
    "\n",
    "X = pd.concat([city_dummies, X_title_trans, X_summ_trans], axis=1)\n",
    "y = salaries_w_desc.high_salary"
   ]
  },
  {
   "cell_type": "code",
   "execution_count": 17,
   "metadata": {
    "collapsed": true
   },
   "outputs": [],
   "source": [
    "y.to_csv('y.csv', header= True,index=False)"
   ]
  },
  {
   "cell_type": "code",
   "execution_count": 27,
   "metadata": {},
   "outputs": [
    {
     "name": "stdout",
     "output_type": "stream",
     "text": [
      "(728, 19028)\n",
      "(728,)\n"
     ]
    }
   ],
   "source": [
    "print(X.shape)\n",
    "print(y.shape)"
   ]
  },
  {
   "cell_type": "code",
   "execution_count": 28,
   "metadata": {
    "collapsed": true
   },
   "outputs": [],
   "source": [
    "X_train, X_test, y_train, y_test = train_test_split(X.as_matrix(), y, test_size=0.3, random_state=68, stratify=y)"
   ]
  },
  {
   "cell_type": "code",
   "execution_count": 29,
   "metadata": {},
   "outputs": [
    {
     "name": "stdout",
     "output_type": "stream",
     "text": [
      "Accuracy Score: 0.74\n",
      "Cross Validation Score: 0.728 ± 0.039\n"
     ]
    }
   ],
   "source": [
    "rfc = RandomForestClassifier(500, random_state=59)\n",
    "rfc.fit(X_train, y_train)\n",
    "\n",
    "rfc_pred = rfc.predict(X_test)\n",
    "acc = accuracy_score(y_test, rfc_pred)\n",
    "print(\"Accuracy Score:\", acc.round(3))\n",
    "\n",
    "s = cross_val_score(rfc, X.as_matrix(), y.as_matrix(), cv=10, n_jobs=-1)\n",
    "print(\"Cross Validation Score: {:0.3} ± {:0.3}\".format(s.mean().round(3), s.std().round(3)))"
   ]
  },
  {
   "cell_type": "code",
   "execution_count": 30,
   "metadata": {},
   "outputs": [
    {
     "name": "stderr",
     "output_type": "stream",
     "text": [
      "/anaconda3/lib/python3.6/site-packages/numpy/core/fromnumeric.py:2909: RuntimeWarning: Mean of empty slice.\n",
      "  out=out, **kwargs)\n",
      "/anaconda3/lib/python3.6/site-packages/numpy/core/_methods.py:80: RuntimeWarning: invalid value encountered in double_scalars\n",
      "  ret = ret.dtype.type(ret / rcount)\n"
     ]
    },
    {
     "data": {
      "text/html": [
       "<div>\n",
       "<style>\n",
       "    .dataframe thead tr:only-child th {\n",
       "        text-align: right;\n",
       "    }\n",
       "\n",
       "    .dataframe thead th {\n",
       "        text-align: left;\n",
       "    }\n",
       "\n",
       "    .dataframe tbody tr th {\n",
       "        vertical-align: top;\n",
       "    }\n",
       "</style>\n",
       "<table border=\"1\" class=\"dataframe\">\n",
       "  <thead>\n",
       "    <tr style=\"text-align: right;\">\n",
       "      <th></th>\n",
       "      <th>feature</th>\n",
       "      <th>importance</th>\n",
       "      <th>median_salary</th>\n",
       "      <th>over_or_under</th>\n",
       "    </tr>\n",
       "  </thead>\n",
       "  <tbody>\n",
       "    <tr>\n",
       "      <th>1941</th>\n",
       "      <td>business</td>\n",
       "      <td>0.012694</td>\n",
       "      <td>122500.00</td>\n",
       "      <td>1</td>\n",
       "    </tr>\n",
       "    <tr>\n",
       "      <th>7</th>\n",
       "      <td>Brisbane , QLD</td>\n",
       "      <td>0.009812</td>\n",
       "      <td>101982.50</td>\n",
       "      <td>1</td>\n",
       "    </tr>\n",
       "    <tr>\n",
       "      <th>1234</th>\n",
       "      <td>analyst</td>\n",
       "      <td>0.008860</td>\n",
       "      <td>109037.00</td>\n",
       "      <td>1</td>\n",
       "    </tr>\n",
       "    <tr>\n",
       "      <th>84</th>\n",
       "      <td>Sydney , NSW</td>\n",
       "      <td>0.008704</td>\n",
       "      <td>120000.00</td>\n",
       "      <td>1</td>\n",
       "    </tr>\n",
       "    <tr>\n",
       "      <th>7925</th>\n",
       "      <td>senior</td>\n",
       "      <td>0.008088</td>\n",
       "      <td>125000.00</td>\n",
       "      <td>1</td>\n",
       "    </tr>\n",
       "    <tr>\n",
       "      <th>2915</th>\n",
       "      <td>data</td>\n",
       "      <td>0.006354</td>\n",
       "      <td>118565.50</td>\n",
       "      <td>1</td>\n",
       "    </tr>\n",
       "    <tr>\n",
       "      <th>47</th>\n",
       "      <td>Melbourne , VIC</td>\n",
       "      <td>0.006107</td>\n",
       "      <td>100000.00</td>\n",
       "      <td>1</td>\n",
       "    </tr>\n",
       "    <tr>\n",
       "      <th>8607</th>\n",
       "      <td>systems</td>\n",
       "      <td>0.005764</td>\n",
       "      <td>101002.25</td>\n",
       "      <td>1</td>\n",
       "    </tr>\n",
       "    <tr>\n",
       "      <th>6307</th>\n",
       "      <td>officer</td>\n",
       "      <td>0.005502</td>\n",
       "      <td>86829.00</td>\n",
       "      <td>0</td>\n",
       "    </tr>\n",
       "    <tr>\n",
       "      <th>4336</th>\n",
       "      <td>graduate</td>\n",
       "      <td>0.004677</td>\n",
       "      <td>60000.00</td>\n",
       "      <td>0</td>\n",
       "    </tr>\n",
       "  </tbody>\n",
       "</table>\n",
       "</div>"
      ],
      "text/plain": [
       "              feature  importance  median_salary  over_or_under\n",
       "1941         business    0.012694      122500.00              1\n",
       "7      Brisbane , QLD    0.009812      101982.50              1\n",
       "1234          analyst    0.008860      109037.00              1\n",
       "84       Sydney , NSW    0.008704      120000.00              1\n",
       "7925           senior    0.008088      125000.00              1\n",
       "2915             data    0.006354      118565.50              1\n",
       "47    Melbourne , VIC    0.006107      100000.00              1\n",
       "8607          systems    0.005764      101002.25              1\n",
       "6307          officer    0.005502       86829.00              0\n",
       "4336         graduate    0.004677       60000.00              0"
      ]
     },
     "execution_count": 30,
     "metadata": {},
     "output_type": "execute_result"
    }
   ],
   "source": [
    "feature_importances = pd.DataFrame(rfc.feature_importances_,\n",
    "                                   index = X.columns).reset_index()\n",
    "feature_importances.columns = ['feature', 'importance']\n",
    "\n",
    "feature_medians = []\n",
    "for i in city_dummies.columns:\n",
    "    feature_medians.append(np.median(df[df.City == i].Salaries))\n",
    "for i in X_title_trans.columns:\n",
    "    feature_medians.append(np.median(salaries_w_desc[salaries_w_desc.Jobs.str.lower().str.contains(i)].Salaries))\n",
    "for i in X_summ_trans.columns:\n",
    "    feature_medians.append(np.median(salaries_w_desc[salaries_w_desc.Summaries.str.lower().str.contains(i)].Salaries))\n",
    "\n",
    "feature_importances['median_salary'] = feature_medians\n",
    "feature_importances['over_or_under'] = [1 if i > median_salary else 0 for i in feature_importances.median_salary]\n",
    "\n",
    "feature_importances.sort_values('importance', ascending=False).head(10)"
   ]
  },
  {
   "cell_type": "code",
   "execution_count": 35,
   "metadata": {
    "collapsed": true
   },
   "outputs": [],
   "source": [
    "features = feature_importances.sort_values('importance', ascending=False).head(10)"
   ]
  },
  {
   "cell_type": "code",
   "execution_count": 36,
   "metadata": {},
   "outputs": [
    {
     "data": {
      "text/html": [
       "<div>\n",
       "<style>\n",
       "    .dataframe thead tr:only-child th {\n",
       "        text-align: right;\n",
       "    }\n",
       "\n",
       "    .dataframe thead th {\n",
       "        text-align: left;\n",
       "    }\n",
       "\n",
       "    .dataframe tbody tr th {\n",
       "        vertical-align: top;\n",
       "    }\n",
       "</style>\n",
       "<table border=\"1\" class=\"dataframe\">\n",
       "  <thead>\n",
       "    <tr style=\"text-align: right;\">\n",
       "      <th></th>\n",
       "      <th>importance</th>\n",
       "      <th>median_salary</th>\n",
       "      <th>over_or_under</th>\n",
       "    </tr>\n",
       "    <tr>\n",
       "      <th>feature</th>\n",
       "      <th></th>\n",
       "      <th></th>\n",
       "      <th></th>\n",
       "    </tr>\n",
       "  </thead>\n",
       "  <tbody>\n",
       "    <tr>\n",
       "      <th>business</th>\n",
       "      <td>0.012694</td>\n",
       "      <td>122500.00</td>\n",
       "      <td>1</td>\n",
       "    </tr>\n",
       "    <tr>\n",
       "      <th>Brisbane , QLD</th>\n",
       "      <td>0.009812</td>\n",
       "      <td>101982.50</td>\n",
       "      <td>1</td>\n",
       "    </tr>\n",
       "    <tr>\n",
       "      <th>analyst</th>\n",
       "      <td>0.008860</td>\n",
       "      <td>109037.00</td>\n",
       "      <td>1</td>\n",
       "    </tr>\n",
       "    <tr>\n",
       "      <th>Sydney , NSW</th>\n",
       "      <td>0.008704</td>\n",
       "      <td>120000.00</td>\n",
       "      <td>1</td>\n",
       "    </tr>\n",
       "    <tr>\n",
       "      <th>senior</th>\n",
       "      <td>0.008088</td>\n",
       "      <td>125000.00</td>\n",
       "      <td>1</td>\n",
       "    </tr>\n",
       "    <tr>\n",
       "      <th>data</th>\n",
       "      <td>0.006354</td>\n",
       "      <td>118565.50</td>\n",
       "      <td>1</td>\n",
       "    </tr>\n",
       "    <tr>\n",
       "      <th>Melbourne , VIC</th>\n",
       "      <td>0.006107</td>\n",
       "      <td>100000.00</td>\n",
       "      <td>1</td>\n",
       "    </tr>\n",
       "    <tr>\n",
       "      <th>systems</th>\n",
       "      <td>0.005764</td>\n",
       "      <td>101002.25</td>\n",
       "      <td>1</td>\n",
       "    </tr>\n",
       "    <tr>\n",
       "      <th>officer</th>\n",
       "      <td>0.005502</td>\n",
       "      <td>86829.00</td>\n",
       "      <td>0</td>\n",
       "    </tr>\n",
       "    <tr>\n",
       "      <th>graduate</th>\n",
       "      <td>0.004677</td>\n",
       "      <td>60000.00</td>\n",
       "      <td>0</td>\n",
       "    </tr>\n",
       "  </tbody>\n",
       "</table>\n",
       "</div>"
      ],
      "text/plain": [
       "                 importance  median_salary  over_or_under\n",
       "feature                                                  \n",
       "business           0.012694      122500.00              1\n",
       "Brisbane , QLD     0.009812      101982.50              1\n",
       "analyst            0.008860      109037.00              1\n",
       "Sydney , NSW       0.008704      120000.00              1\n",
       "senior             0.008088      125000.00              1\n",
       "data               0.006354      118565.50              1\n",
       "Melbourne , VIC    0.006107      100000.00              1\n",
       "systems            0.005764      101002.25              1\n",
       "officer            0.005502       86829.00              0\n",
       "graduate           0.004677       60000.00              0"
      ]
     },
     "execution_count": 36,
     "metadata": {},
     "output_type": "execute_result"
    }
   ],
   "source": [
    "features = features.set_index('feature')\n",
    "features.sort_values('importance', ascending=False)"
   ]
  },
  {
   "cell_type": "code",
   "execution_count": 37,
   "metadata": {
    "collapsed": true
   },
   "outputs": [],
   "source": [
    "features.drop('over_or_under',axis=1,inplace=True)\n",
    "features.drop('median_salary',axis=1,inplace=True)"
   ]
  },
  {
   "cell_type": "code",
   "execution_count": 38,
   "metadata": {},
   "outputs": [
    {
     "data": {
      "image/png": "[encoded data removed]",
      "text/plain": [
       "<matplotlib.figure.Figure at 0x10fad65f8>"
      ]
     },
     "metadata": {
      "image/png": {
       "height": 370,
       "width": 739
      }
     },
     "output_type": "display_data"
    }
   ],
   "source": [
    "plt.figure(figsize=(10,6))\n",
    "sns.barplot(data = features.sort_values(by = 'importance', ascending = False).T, orient='h')\n",
    "plt.title(\"Indeed\")\n",
    "plt.show()"
   ]
  },
  {
   "cell_type": "markdown",
   "metadata": {
    "collapsed": true
   },
   "source": [
    "## Test the accuracy on the other models"
   ]
  },
  {
   "cell_type": "code",
   "execution_count": 39,
   "metadata": {
    "collapsed": true
   },
   "outputs": [],
   "source": [
    "\n",
    "def classify(classifiers):\n",
    "    # Splitting the dataset into the Training set and Test set\n",
    "    from sklearn.model_selection import train_test_split, cross_val_score\n",
    "    X_train, X_test, y_train, y_test = train_test_split(X, y, test_size = 0.25, random_state = 0)\n",
    "    \n",
    "    # Feature Scaling\n",
    "    from sklearn.preprocessing import StandardScaler\n",
    "    sc = StandardScaler()\n",
    "    X_train = sc.fit_transform(X_train)\n",
    "    X_test = sc.transform(X_test)\n",
    "    \n",
    "    if classifiers == 'LogisticRegression':\n",
    "        # Fitting Logistic Regression to the Training set\n",
    "        from sklearn.linear_model import LogisticRegression\n",
    "        classifier = LogisticRegression(random_state = 59)\n",
    "        classifier.fit(X_train, y_train)\n",
    "    \n",
    "    if classifiers == 'knn':\n",
    "        # Fitting K-NN to the Training set\n",
    "        from sklearn.neighbors import KNeighborsClassifier\n",
    "        classifier = KNeighborsClassifier(n_neighbors = 5, metric = 'minkowski', p = 2)\n",
    "        classifier.fit(X_train, y_train)\n",
    "\n",
    "    if classifiers == 'svm':\n",
    "        # Fitting SVM to the Training set\n",
    "        from sklearn.svm import SVC\n",
    "        classifier = SVC(kernel = 'linear', random_state = 59)\n",
    "        classifier.fit(X_train, y_train)\n",
    "     \n",
    "    if classifiers == 'nb':\n",
    "        # Fitting Naive Bayes to the Training set\n",
    "        from sklearn.naive_bayes import GaussianNB\n",
    "        classifier = GaussianNB()\n",
    "        classifier.fit(X_train, y_train)\n",
    "        \n",
    "    if classifiers == 'Random Forest':\n",
    "        # Fitting Random Forest to the Training set\n",
    "        classifier = RandomForestClassifier(500, random_state=59)\n",
    "        classifier.fit(X_train, y_train)   \n",
    "            \n",
    "    if classifiers == 'DecisionTreeClassifier':\n",
    "        # Fitting DecisionTreeClassifier to the Training set\n",
    "        classifier = DecisionTreeClassifier(random_state=59)\n",
    "        classifier.fit(X_train, y_train)\n",
    "    \n",
    "    if classifiers == 'ExtraTreesClassifier':\n",
    "        # Fitting ExtraTreesClassifier to the Training set\n",
    "        classifier = ExtraTreesClassifier(500, random_state=59)\n",
    "        classifier.fit(X_train, y_train)\n",
    "\n",
    "    if classifiers == 'AdaBoostClassifier':\n",
    "        # Fitting Logistic Regression to the Training set\n",
    "        classifier = AdaBoostClassifier(random_state=59)\n",
    "        classifier.fit(X_train, y_train)\n",
    "        \n",
    "    if classifiers == 'GradientBoostingClassifier':\n",
    "        # Fitting GradientBoostingClassifier to the Training set\n",
    "        classifier = GradientBoostingClassifier(random_state=59)\n",
    "        classifier.fit(X_train, y_train)\n",
    "    \n",
    "    if classifiers == 'pca':\n",
    "        # Applying PCA\n",
    "        from sklearn.decomposition import PCA\n",
    "        pca = PCA(n_components = 2)\n",
    "        X_train = pca.fit_transform(X_train)\n",
    "        X_test = pca.transform(X_test)\n",
    "        explained_variance = pca.explained_variance_ratio_\n",
    "\n",
    "        # Fitting Logistic Regression to the Training set\n",
    "        from sklearn.linear_model import LogisticRegression\n",
    "        classifier = LogisticRegression(random_state = 59)\n",
    "        classifier.fit(X_train, y_train)\n",
    "    \n",
    "    if classifiers == 'lda':\n",
    "        # Applying LDA\n",
    "        from sklearn.discriminant_analysis import LinearDiscriminantAnalysis as LDA\n",
    "        lda = LDA(n_components = 2)\n",
    "        X_train = lda.fit_transform(X_train, y_train)\n",
    "        X_test = lda.transform(X_test)\n",
    "\n",
    "        # Fitting Logistic Regression to the Training set\n",
    "        from sklearn.linear_model import LogisticRegression\n",
    "        classifier = LogisticRegression(random_state = 59)\n",
    "        classifier.fit(X_train, y_train)\n",
    "\n",
    "    \n",
    "    # Predicting the Test set results\n",
    "    y_pred = classifier.predict(X_test)\n",
    "    \n",
    "    # Making the Confusion Matrix\n",
    "    from sklearn.metrics import confusion_matrix\n",
    "    cm = confusion_matrix(y_test, y_pred)\n",
    "    print(cm)\n",
    "    \n",
    "    acc = accuracy_score(y_test, y_pred)\n",
    "    print(\"Accuracy Score:\", acc.round(3))\n",
    "    s = cross_val_score(classifier, X, y, cv=10, n_jobs=-1)\n",
    "    print(\"Cross Validation Score:\\t{:0.3} ± {:0.3}\".format(s.mean().round(3), s.std().round(3)))\n",
    "    \n",
    "    \n",
    "    "
   ]
  },
  {
   "cell_type": "code",
   "execution_count": 94,
   "metadata": {},
   "outputs": [
    {
     "data": {
      "text/plain": [
       "(728,)"
      ]
     },
     "execution_count": 94,
     "metadata": {},
     "output_type": "execute_result"
    }
   ],
   "source": [
    "y.shape"
   ]
  },
  {
   "cell_type": "code",
   "execution_count": 40,
   "metadata": {},
   "outputs": [
    {
     "name": "stdout",
     "output_type": "stream",
     "text": [
      "[[44 24]\n",
      " [29 85]]\n",
      "Accuracy Score: 0.709\n",
      "Cross Validation Score:\t0.738 ± 0.049\n"
     ]
    }
   ],
   "source": [
    "classify('LogisticRegression')"
   ]
  },
  {
   "cell_type": "code",
   "execution_count": 41,
   "metadata": {},
   "outputs": [
    {
     "name": "stdout",
     "output_type": "stream",
     "text": [
      "[[38 30]\n",
      " [30 84]]\n",
      "Accuracy Score: 0.67\n",
      "Cross Validation Score:\t0.651 ± 0.092\n"
     ]
    }
   ],
   "source": [
    "classify('nb')"
   ]
  },
  {
   "cell_type": "code",
   "execution_count": 42,
   "metadata": {},
   "outputs": [
    {
     "name": "stdout",
     "output_type": "stream",
     "text": [
      "[[ 30  38]\n",
      " [ 13 101]]\n",
      "Accuracy Score: 0.72\n",
      "Cross Validation Score:\t0.728 ± 0.039\n"
     ]
    }
   ],
   "source": [
    "classify('Random Forest')"
   ]
  },
  {
   "cell_type": "code",
   "execution_count": 43,
   "metadata": {},
   "outputs": [
    {
     "name": "stdout",
     "output_type": "stream",
     "text": [
      "[[52 16]\n",
      " [75 39]]\n",
      "Accuracy Score: 0.5\n",
      "Cross Validation Score:\t0.629 ± 0.056\n"
     ]
    }
   ],
   "source": [
    "classify('knn')"
   ]
  },
  {
   "cell_type": "code",
   "execution_count": 44,
   "metadata": {},
   "outputs": [
    {
     "name": "stdout",
     "output_type": "stream",
     "text": [
      "[[40 28]\n",
      " [35 79]]\n",
      "Accuracy Score: 0.654\n",
      "Cross Validation Score:\t0.725 ± 0.033\n"
     ]
    }
   ],
   "source": [
    "classify('svm')"
   ]
  },
  {
   "cell_type": "code",
   "execution_count": 67,
   "metadata": {},
   "outputs": [
    {
     "name": "stdout",
     "output_type": "stream",
     "text": [
      "[[  9  59]\n",
      " [  7 107]]\n",
      "Accuracy Score: 0.637\n",
      "Cross Validation Score:\t0.738 ± 0.049\n"
     ]
    }
   ],
   "source": [
    "#PCA with Logistic regression\n",
    "classify('pca')"
   ]
  },
  {
   "cell_type": "code",
   "execution_count": 68,
   "metadata": {},
   "outputs": [
    {
     "name": "stderr",
     "output_type": "stream",
     "text": [
      "/anaconda3/lib/python3.6/site-packages/sklearn/discriminant_analysis.py:388: UserWarning: Variables are collinear.\n",
      "  warnings.warn(\"Variables are collinear.\")\n"
     ]
    },
    {
     "name": "stdout",
     "output_type": "stream",
     "text": [
      "[[44 24]\n",
      " [34 80]]\n",
      "Accuracy Score: 0.681\n",
      "Cross Validation Score:\t0.738 ± 0.049\n"
     ]
    }
   ],
   "source": [
    "#LDA with Logistic regression\n",
    "classify('lda')"
   ]
  },
  {
   "cell_type": "code",
   "execution_count": 46,
   "metadata": {},
   "outputs": [
    {
     "name": "stdout",
     "output_type": "stream",
     "text": [
      "[[34 34]\n",
      " [15 99]]\n",
      "Accuracy Score: 0.731\n",
      "Cross Validation Score:\t0.747 ± 0.062\n"
     ]
    }
   ],
   "source": [
    "classify('ExtraTreesClassifier')"
   ]
  },
  {
   "cell_type": "code",
   "execution_count": 47,
   "metadata": {},
   "outputs": [
    {
     "name": "stdout",
     "output_type": "stream",
     "text": [
      "[[30 38]\n",
      " [15 99]]\n",
      "Accuracy Score: 0.709\n",
      "Cross Validation Score:\t0.691 ± 0.066\n"
     ]
    }
   ],
   "source": [
    "classify('AdaBoostClassifier')"
   ]
  },
  {
   "cell_type": "code",
   "execution_count": 48,
   "metadata": {},
   "outputs": [
    {
     "name": "stdout",
     "output_type": "stream",
     "text": [
      "[[ 31  37]\n",
      " [  8 106]]\n",
      "Accuracy Score: 0.753\n",
      "Cross Validation Score:\t0.747 ± 0.042\n"
     ]
    }
   ],
   "source": [
    "classify('GradientBoostingClassifier')"
   ]
  },
  {
   "cell_type": "code",
   "execution_count": 49,
   "metadata": {},
   "outputs": [
    {
     "name": "stdout",
     "output_type": "stream",
     "text": [
      "[[35 33]\n",
      " [29 85]]\n",
      "Accuracy Score: 0.659\n",
      "Cross Validation Score:\t0.658 ± 0.049\n"
     ]
    }
   ],
   "source": [
    "classify('DecisionTreeClassifier')"
   ]
  },
  {
   "cell_type": "code",
   "execution_count": null,
   "metadata": {
    "collapsed": true
   },
   "outputs": [],
   "source": []
  },
  {
   "cell_type": "code",
   "execution_count": 50,
   "metadata": {},
   "outputs": [
    {
     "name": "stdout",
     "output_type": "stream",
     "text": [
      "[[44 24]\n",
      " [29 85]]\n",
      "Accuracy Score: 0.709\n",
      "Cross Validation Score:\t0.738 ± 0.049\n"
     ]
    }
   ],
   "source": [
    "# Splitting the dataset into the Training set and Test set\n",
    "from sklearn.model_selection import train_test_split, cross_val_score\n",
    "X_train, X_test, y_train, y_test = train_test_split(X, y, test_size = 0.25, random_state = 0)\n",
    "    \n",
    "    # Feature Scaling\n",
    "from sklearn.preprocessing import StandardScaler\n",
    "sc = StandardScaler()\n",
    "X_train = sc.fit_transform(X_train)\n",
    "X_test = sc.transform(X_test)\n",
    "    \n",
    "    \n",
    "# Fitting Logistic Regression to the Training set\n",
    "from sklearn.linear_model import LogisticRegression\n",
    "classifier = LogisticRegression(random_state = 59)\n",
    "classifier.fit(X_train, y_train)\n",
    "\n",
    "# Predicting the Test set results\n",
    "y_pred = classifier.predict(X_test)\n",
    "    \n",
    "# Making the Confusion Matrix\n",
    "from sklearn.metrics import confusion_matrix\n",
    "cm = confusion_matrix(y_test, y_pred)\n",
    "print(cm)\n",
    "    \n",
    "acc = accuracy_score(y_test, y_pred)\n",
    "print(\"Accuracy Score:\", acc.round(3))\n",
    "s = cross_val_score(classifier, X, y, cv=10, n_jobs=-1)\n",
    "print(\"Cross Validation Score:\\t{:0.3} ± {:0.3}\".format(s.mean().round(3), s.std().round(3)))  "
   ]
  },
  {
   "cell_type": "code",
   "execution_count": 51,
   "metadata": {},
   "outputs": [
    {
     "data": {
      "text/html": [
       "<div>\n",
       "<style>\n",
       "    .dataframe thead tr:only-child th {\n",
       "        text-align: right;\n",
       "    }\n",
       "\n",
       "    .dataframe thead th {\n",
       "        text-align: left;\n",
       "    }\n",
       "\n",
       "    .dataframe tbody tr th {\n",
       "        vertical-align: top;\n",
       "    }\n",
       "</style>\n",
       "<table border=\"1\" class=\"dataframe\">\n",
       "  <thead>\n",
       "    <tr style=\"text-align: right;\">\n",
       "      <th></th>\n",
       "      <th>lasso_coefs</th>\n",
       "    </tr>\n",
       "  </thead>\n",
       "  <tbody>\n",
       "    <tr>\n",
       "      <th>data</th>\n",
       "      <td>0.871261</td>\n",
       "    </tr>\n",
       "    <tr>\n",
       "      <th>systems</th>\n",
       "      <td>0.692934</td>\n",
       "    </tr>\n",
       "    <tr>\n",
       "      <th>senior</th>\n",
       "      <td>0.644030</td>\n",
       "    </tr>\n",
       "    <tr>\n",
       "      <th>Canberra , ACT</th>\n",
       "      <td>0.621646</td>\n",
       "    </tr>\n",
       "    <tr>\n",
       "      <th>delivery</th>\n",
       "      <td>0.615736</td>\n",
       "    </tr>\n",
       "    <tr>\n",
       "      <th>Perth , WA</th>\n",
       "      <td>0.607529</td>\n",
       "    </tr>\n",
       "    <tr>\n",
       "      <th>junior</th>\n",
       "      <td>0.604040</td>\n",
       "    </tr>\n",
       "    <tr>\n",
       "      <th>Macquarie University , NSW</th>\n",
       "      <td>0.593800</td>\n",
       "    </tr>\n",
       "    <tr>\n",
       "      <th>developer</th>\n",
       "      <td>0.573888</td>\n",
       "    </tr>\n",
       "    <tr>\n",
       "      <th>business</th>\n",
       "      <td>0.502759</td>\n",
       "    </tr>\n",
       "  </tbody>\n",
       "</table>\n",
       "</div>"
      ],
      "text/plain": [
       "                            lasso_coefs\n",
       "data                           0.871261\n",
       "systems                        0.692934\n",
       "senior                         0.644030\n",
       "Canberra , ACT                 0.621646\n",
       "delivery                       0.615736\n",
       "Perth , WA                     0.607529\n",
       "junior                         0.604040\n",
       "Macquarie University , NSW     0.593800\n",
       "developer                      0.573888\n",
       "business                       0.502759"
      ]
     },
     "execution_count": 51,
     "metadata": {},
     "output_type": "execute_result"
    }
   ],
   "source": [
    "coeffs = pd.DataFrame(classifier.coef_, columns=X.columns)\n",
    "coeffs_t = coeffs.transpose()\n",
    "coeffs_t.columns = ['lasso_coefs']\n",
    "coeffs_abs = coeffs_t.abs().sort_values('lasso_coefs', ascending=False)\n",
    "coeffs_abs.iloc[0:10]"
   ]
  },
  {
   "cell_type": "code",
   "execution_count": 52,
   "metadata": {},
   "outputs": [
    {
     "data": {
      "image/png": "[encoded data removed]",
      "text/plain": [
       "<matplotlib.figure.Figure at 0x117b9bb70>"
      ]
     },
     "metadata": {
      "image/png": {
       "height": 370,
       "width": 783
      }
     },
     "output_type": "display_data"
    }
   ],
   "source": [
    "plt.figure(figsize=(10,6))\n",
    "sns.barplot(data = coeffs_abs.iloc[0:10].sort_values(by = 'lasso_coefs', ascending = False).T, orient='h')\n",
    "plt.title(\"Indeed\")\n",
    "plt.show()"
   ]
  },
  {
   "cell_type": "code",
   "execution_count": null,
   "metadata": {
    "collapsed": true
   },
   "outputs": [],
   "source": []
  }
 ],
 "metadata": {
  "kernelspec": {
   "display_name": "Python 3",
   "language": "python",
   "name": "python3"
  },
  "language_info": {
   "codemirror_mode": {
    "name": "ipython",
    "version": 3
   },
   "file_extension": ".py",
   "mimetype": "text/x-python",
   "name": "python",
   "nbconvert_exporter": "python",
   "pygments_lexer": "ipython3",
   "version": "3.6.3"
  }
 },
 "nbformat": 4,
 "nbformat_minor": 2
}
