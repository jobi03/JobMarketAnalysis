{
 "cells": [
  {
   "cell_type": "code",
   "execution_count": 1,
   "metadata": {
    "collapsed": true
   },
   "outputs": [],
   "source": [
    "import pandas as pd\n",
    "import numpy as np\n",
    "import re"
   ]
  },
  {
   "cell_type": "code",
   "execution_count": 2,
   "metadata": {
    "collapsed": true
   },
   "outputs": [],
   "source": [
    "df = pd.read_csv('Cleaned_salary.csv')"
   ]
  },
  {
   "cell_type": "code",
   "execution_count": 3,
   "metadata": {},
   "outputs": [
    {
     "data": {
      "text/html": [
       "<div>\n",
       "<style>\n",
       "    .dataframe thead tr:only-child th {\n",
       "        text-align: right;\n",
       "    }\n",
       "\n",
       "    .dataframe thead th {\n",
       "        text-align: left;\n",
       "    }\n",
       "\n",
       "    .dataframe tbody tr th {\n",
       "        vertical-align: top;\n",
       "    }\n",
       "</style>\n",
       "<table border=\"1\" class=\"dataframe\">\n",
       "  <thead>\n",
       "    <tr style=\"text-align: right;\">\n",
       "      <th></th>\n",
       "      <th>Jobs</th>\n",
       "      <th>Companies</th>\n",
       "      <th>Locations</th>\n",
       "      <th>Salaries</th>\n",
       "      <th>Summaries</th>\n",
       "    </tr>\n",
       "  </thead>\n",
       "  <tbody>\n",
       "    <tr>\n",
       "      <th>0</th>\n",
       "      <td>Student - Data Officer, Community Planning</td>\n",
       "      <td>Moonee Valley City Council</td>\n",
       "      <td>Melbourne VIC</td>\n",
       "      <td>339000.0</td>\n",
       "      <td>Student Data Officer, Community Planning Refer...</td>\n",
       "    </tr>\n",
       "    <tr>\n",
       "      <th>1</th>\n",
       "      <td>Solutions Architect</td>\n",
       "      <td>Pythian</td>\n",
       "      <td>Sydney NSW</td>\n",
       "      <td>165000.0</td>\n",
       "      <td>Job Summary Why Pythian? Pythian is a global I...</td>\n",
       "    </tr>\n",
       "    <tr>\n",
       "      <th>2</th>\n",
       "      <td>Manager, Insights</td>\n",
       "      <td>State Trustees Limited</td>\n",
       "      <td>Melbourne VIC</td>\n",
       "      <td>116647.0</td>\n",
       "      <td>Located at our Head Office in Footscray (10 mi...</td>\n",
       "    </tr>\n",
       "    <tr>\n",
       "      <th>3</th>\n",
       "      <td>PhD Scholarship – Big Data Analytics for Oil D...</td>\n",
       "      <td>Swinburne University of Technology</td>\n",
       "      <td>Melbourne VIC</td>\n",
       "      <td>25849.0</td>\n",
       "      <td>Faculty of Science, Engineering and Technology...</td>\n",
       "    </tr>\n",
       "    <tr>\n",
       "      <th>4</th>\n",
       "      <td>STRUCTURAL TECHNOLOGY SPECIALIST</td>\n",
       "      <td>VicRoads</td>\n",
       "      <td>Kew East VIC</td>\n",
       "      <td>118388.5</td>\n",
       "      <td>About VicRoads Victoria has embarked on a once...</td>\n",
       "    </tr>\n",
       "  </tbody>\n",
       "</table>\n",
       "</div>"
      ],
      "text/plain": [
       "                                                Jobs  \\\n",
       "0         Student - Data Officer, Community Planning   \n",
       "1                                Solutions Architect   \n",
       "2                                  Manager, Insights   \n",
       "3  PhD Scholarship – Big Data Analytics for Oil D...   \n",
       "4                   STRUCTURAL TECHNOLOGY SPECIALIST   \n",
       "\n",
       "                            Companies      Locations  Salaries  \\\n",
       "0          Moonee Valley City Council  Melbourne VIC  339000.0   \n",
       "1                             Pythian     Sydney NSW  165000.0   \n",
       "2              State Trustees Limited  Melbourne VIC  116647.0   \n",
       "3  Swinburne University of Technology  Melbourne VIC   25849.0   \n",
       "4                            VicRoads   Kew East VIC  118388.5   \n",
       "\n",
       "                                           Summaries  \n",
       "0  Student Data Officer, Community Planning Refer...  \n",
       "1  Job Summary Why Pythian? Pythian is a global I...  \n",
       "2  Located at our Head Office in Footscray (10 mi...  \n",
       "3  Faculty of Science, Engineering and Technology...  \n",
       "4  About VicRoads Victoria has embarked on a once...  "
      ]
     },
     "execution_count": 3,
     "metadata": {},
     "output_type": "execute_result"
    }
   ],
   "source": [
    "df.drop('Unnamed: 0',axis=1,inplace=True)\n",
    "df.head()"
   ]
  },
  {
   "cell_type": "code",
   "execution_count": 4,
   "metadata": {},
   "outputs": [
    {
     "data": {
      "text/plain": [
       "92667"
      ]
     },
     "execution_count": 4,
     "metadata": {},
     "output_type": "execute_result"
    }
   ],
   "source": [
    "median_salary = 92667\n",
    "median_salary"
   ]
  },
  {
   "cell_type": "code",
   "execution_count": 5,
   "metadata": {
    "collapsed": true
   },
   "outputs": [],
   "source": [
    "df['high_salary'] = [1 if i > median_salary else 0 for i in df.Salaries]"
   ]
  },
  {
   "cell_type": "code",
   "execution_count": 6,
   "metadata": {
    "scrolled": true
   },
   "outputs": [
    {
     "data": {
      "text/html": [
       "<div>\n",
       "<style>\n",
       "    .dataframe thead tr:only-child th {\n",
       "        text-align: right;\n",
       "    }\n",
       "\n",
       "    .dataframe thead th {\n",
       "        text-align: left;\n",
       "    }\n",
       "\n",
       "    .dataframe tbody tr th {\n",
       "        vertical-align: top;\n",
       "    }\n",
       "</style>\n",
       "<table border=\"1\" class=\"dataframe\">\n",
       "  <thead>\n",
       "    <tr style=\"text-align: right;\">\n",
       "      <th></th>\n",
       "      <th>Jobs</th>\n",
       "      <th>Companies</th>\n",
       "      <th>Locations</th>\n",
       "      <th>Salaries</th>\n",
       "      <th>Summaries</th>\n",
       "      <th>high_salary</th>\n",
       "    </tr>\n",
       "  </thead>\n",
       "  <tbody>\n",
       "    <tr>\n",
       "      <th>0</th>\n",
       "      <td>Student - Data Officer, Community Planning</td>\n",
       "      <td>Moonee Valley City Council</td>\n",
       "      <td>Melbourne VIC</td>\n",
       "      <td>339000.0</td>\n",
       "      <td>Student Data Officer, Community Planning Refer...</td>\n",
       "      <td>1</td>\n",
       "    </tr>\n",
       "    <tr>\n",
       "      <th>1</th>\n",
       "      <td>Solutions Architect</td>\n",
       "      <td>Pythian</td>\n",
       "      <td>Sydney NSW</td>\n",
       "      <td>165000.0</td>\n",
       "      <td>Job Summary Why Pythian? Pythian is a global I...</td>\n",
       "      <td>1</td>\n",
       "    </tr>\n",
       "    <tr>\n",
       "      <th>2</th>\n",
       "      <td>Manager, Insights</td>\n",
       "      <td>State Trustees Limited</td>\n",
       "      <td>Melbourne VIC</td>\n",
       "      <td>116647.0</td>\n",
       "      <td>Located at our Head Office in Footscray (10 mi...</td>\n",
       "      <td>1</td>\n",
       "    </tr>\n",
       "    <tr>\n",
       "      <th>3</th>\n",
       "      <td>PhD Scholarship – Big Data Analytics for Oil D...</td>\n",
       "      <td>Swinburne University of Technology</td>\n",
       "      <td>Melbourne VIC</td>\n",
       "      <td>25849.0</td>\n",
       "      <td>Faculty of Science, Engineering and Technology...</td>\n",
       "      <td>0</td>\n",
       "    </tr>\n",
       "    <tr>\n",
       "      <th>4</th>\n",
       "      <td>STRUCTURAL TECHNOLOGY SPECIALIST</td>\n",
       "      <td>VicRoads</td>\n",
       "      <td>Kew East VIC</td>\n",
       "      <td>118388.5</td>\n",
       "      <td>About VicRoads Victoria has embarked on a once...</td>\n",
       "      <td>1</td>\n",
       "    </tr>\n",
       "  </tbody>\n",
       "</table>\n",
       "</div>"
      ],
      "text/plain": [
       "                                                Jobs  \\\n",
       "0         Student - Data Officer, Community Planning   \n",
       "1                                Solutions Architect   \n",
       "2                                  Manager, Insights   \n",
       "3  PhD Scholarship – Big Data Analytics for Oil D...   \n",
       "4                   STRUCTURAL TECHNOLOGY SPECIALIST   \n",
       "\n",
       "                            Companies      Locations  Salaries  \\\n",
       "0          Moonee Valley City Council  Melbourne VIC  339000.0   \n",
       "1                             Pythian     Sydney NSW  165000.0   \n",
       "2              State Trustees Limited  Melbourne VIC  116647.0   \n",
       "3  Swinburne University of Technology  Melbourne VIC   25849.0   \n",
       "4                            VicRoads   Kew East VIC  118388.5   \n",
       "\n",
       "                                           Summaries  high_salary  \n",
       "0  Student Data Officer, Community Planning Refer...            1  \n",
       "1  Job Summary Why Pythian? Pythian is a global I...            1  \n",
       "2  Located at our Head Office in Footscray (10 mi...            1  \n",
       "3  Faculty of Science, Engineering and Technology...            0  \n",
       "4  About VicRoads Victoria has embarked on a once...            1  "
      ]
     },
     "execution_count": 6,
     "metadata": {},
     "output_type": "execute_result"
    }
   ],
   "source": [
    "df.head()"
   ]
  },
  {
   "cell_type": "code",
   "execution_count": 7,
   "metadata": {
    "collapsed": true
   },
   "outputs": [],
   "source": [
    "from sklearn.model_selection import cross_val_score, StratifiedKFold, train_test_split\n",
    "from sklearn.tree import DecisionTreeClassifier\n",
    "from sklearn.ensemble import RandomForestClassifier, ExtraTreesClassifier, BaggingClassifier, AdaBoostClassifier, GradientBoostingClassifier\n",
    "from sklearn.metrics import accuracy_score"
   ]
  },
  {
   "cell_type": "code",
   "execution_count": 8,
   "metadata": {},
   "outputs": [
    {
     "data": {
      "text/plain": [
       "Sydney NSW                              255\n",
       "Melbourne VIC                           103\n",
       "Brisbane QLD                             42\n",
       "Australia                                32\n",
       "Sydney Central Business District NSW     29\n",
       "Canberra ACT                             26\n",
       "Melbourne City Centre VIC                23\n",
       "Parkville VIC                            12\n",
       "Perth WA                                 12\n",
       "Adelaide SA                              12\n",
       "Name: Locations, dtype: int64"
      ]
     },
     "execution_count": 8,
     "metadata": {},
     "output_type": "execute_result"
    }
   ],
   "source": [
    "df.Locations.value_counts()[0:10]"
   ]
  },
  {
   "cell_type": "code",
   "execution_count": 9,
   "metadata": {},
   "outputs": [
    {
     "data": {
      "text/plain": [
       "array(['Melbourne VIC', 'Sydney NSW', 'Kew East VIC', 'Hobart TAS',\n",
       "       'Macquarie University NSW', 'Crawley WA',\n",
       "       'Melbourne City Centre VIC', 'Toowoomba QLD', 'Clayton VIC',\n",
       "       'Clare SA', 'Brisbane QLD', 'Australia', 'Springfield QLD',\n",
       "       'Canberra ACT', 'North Sydney NSW', 'Caulfield VIC',\n",
       "       'Parkville VIC', 'Adelaide SA', 'Kensington NSW', 'Queensland',\n",
       "       'Casuarina NT', 'Victoria', 'Nedlands WA', 'Broadway NSW',\n",
       "       'Angle Park SA', 'Perth Central Business District WA',\n",
       "       'Sydney Central Business District NSW', 'Perth WA', 'St Lucia QLD',\n",
       "       'Newington NSW', 'Chester Hill NSW', 'Mackay QLD', 'Townsville QLD',\n",
       "       'Cairns QLD', 'Ballarat VIC', 'New South Wales',\n",
       "       'Melbourne Northern Suburbs VIC', 'Mernda VIC', 'Craigieburn VIC',\n",
       "       'Edgecliff NSW', 'Thomastown VIC', 'Tewantin QLD',\n",
       "       'City of Boroondara VIC', 'Paddington NSW', 'Fishermans Bend VIC',\n",
       "       'Macquarie Park NSW', 'Albury NSW', 'Mitcham VIC', 'Ballina NSW',\n",
       "       'Mittagong NSW', 'Mandurah WA', 'Central West NSW',\n",
       "       'Highgate Hill QLD', 'Sydney Western Suburbs NSW',\n",
       "       'Western Shaw WA', 'Gold Coast QLD', 'Double Bay NSW',\n",
       "       'Buddina QLD', 'Karratha WA', 'Parramatta NSW',\n",
       "       'Frenchs Forest NSW', 'Surry Hills NSW', 'South Yarra VIC',\n",
       "       'Docklands VIC', 'Moranbah QLD', 'Dubbo NSW', 'North Ryde NSW',\n",
       "       'Adelaide Bc SA', 'Milton QLD', 'Geelong VIC', 'Russell ACT',\n",
       "       'Armstrong VIC', 'West Melbourne VIC', 'Rosny TAS', 'Darebin VIC',\n",
       "       'Illawarra NSW', 'Northern Beaches NSW',\n",
       "       'Brisbane Central Business District QLD', 'Rockhampton QLD',\n",
       "       'Southbank VIC', 'Silverwater NSW', 'Mascot NSW', 'Merrylands NSW',\n",
       "       'Mount Waverley VIC', 'Tasmania', 'Broome WA', 'Greenwich NSW',\n",
       "       'Chippendale NSW', 'Cottesloe WA', 'Ultimo NSW', 'Richmond VIC',\n",
       "       'Melbourne Eastern Suburbs VIC', 'Smeaton Grange NSW',\n",
       "       'Castle Hill NSW'], dtype=object)"
      ]
     },
     "execution_count": 9,
     "metadata": {},
     "output_type": "execute_result"
    }
   ],
   "source": [
    "df.Locations.unique()"
   ]
  },
  {
   "cell_type": "code",
   "execution_count": 10,
   "metadata": {
    "collapsed": true
   },
   "outputs": [],
   "source": [
    "for loc in df.Locations:\n",
    "    df['States'] = 'NA'"
   ]
  },
  {
   "cell_type": "code",
   "execution_count": 11,
   "metadata": {},
   "outputs": [
    {
     "data": {
      "text/html": [
       "<div>\n",
       "<style>\n",
       "    .dataframe thead tr:only-child th {\n",
       "        text-align: right;\n",
       "    }\n",
       "\n",
       "    .dataframe thead th {\n",
       "        text-align: left;\n",
       "    }\n",
       "\n",
       "    .dataframe tbody tr th {\n",
       "        vertical-align: top;\n",
       "    }\n",
       "</style>\n",
       "<table border=\"1\" class=\"dataframe\">\n",
       "  <thead>\n",
       "    <tr style=\"text-align: right;\">\n",
       "      <th></th>\n",
       "      <th>Jobs</th>\n",
       "      <th>Companies</th>\n",
       "      <th>Locations</th>\n",
       "      <th>Salaries</th>\n",
       "      <th>Summaries</th>\n",
       "      <th>high_salary</th>\n",
       "      <th>States</th>\n",
       "    </tr>\n",
       "  </thead>\n",
       "  <tbody>\n",
       "    <tr>\n",
       "      <th>0</th>\n",
       "      <td>Student - Data Officer, Community Planning</td>\n",
       "      <td>Moonee Valley City Council</td>\n",
       "      <td>Melbourne VIC</td>\n",
       "      <td>339000.0</td>\n",
       "      <td>Student Data Officer, Community Planning Refer...</td>\n",
       "      <td>1</td>\n",
       "      <td>NA</td>\n",
       "    </tr>\n",
       "    <tr>\n",
       "      <th>1</th>\n",
       "      <td>Solutions Architect</td>\n",
       "      <td>Pythian</td>\n",
       "      <td>Sydney NSW</td>\n",
       "      <td>165000.0</td>\n",
       "      <td>Job Summary Why Pythian? Pythian is a global I...</td>\n",
       "      <td>1</td>\n",
       "      <td>NA</td>\n",
       "    </tr>\n",
       "    <tr>\n",
       "      <th>2</th>\n",
       "      <td>Manager, Insights</td>\n",
       "      <td>State Trustees Limited</td>\n",
       "      <td>Melbourne VIC</td>\n",
       "      <td>116647.0</td>\n",
       "      <td>Located at our Head Office in Footscray (10 mi...</td>\n",
       "      <td>1</td>\n",
       "      <td>NA</td>\n",
       "    </tr>\n",
       "    <tr>\n",
       "      <th>3</th>\n",
       "      <td>PhD Scholarship – Big Data Analytics for Oil D...</td>\n",
       "      <td>Swinburne University of Technology</td>\n",
       "      <td>Melbourne VIC</td>\n",
       "      <td>25849.0</td>\n",
       "      <td>Faculty of Science, Engineering and Technology...</td>\n",
       "      <td>0</td>\n",
       "      <td>NA</td>\n",
       "    </tr>\n",
       "    <tr>\n",
       "      <th>4</th>\n",
       "      <td>STRUCTURAL TECHNOLOGY SPECIALIST</td>\n",
       "      <td>VicRoads</td>\n",
       "      <td>Kew East VIC</td>\n",
       "      <td>118388.5</td>\n",
       "      <td>About VicRoads Victoria has embarked on a once...</td>\n",
       "      <td>1</td>\n",
       "      <td>NA</td>\n",
       "    </tr>\n",
       "  </tbody>\n",
       "</table>\n",
       "</div>"
      ],
      "text/plain": [
       "                                                Jobs  \\\n",
       "0         Student - Data Officer, Community Planning   \n",
       "1                                Solutions Architect   \n",
       "2                                  Manager, Insights   \n",
       "3  PhD Scholarship – Big Data Analytics for Oil D...   \n",
       "4                   STRUCTURAL TECHNOLOGY SPECIALIST   \n",
       "\n",
       "                            Companies      Locations  Salaries  \\\n",
       "0          Moonee Valley City Council  Melbourne VIC  339000.0   \n",
       "1                             Pythian     Sydney NSW  165000.0   \n",
       "2              State Trustees Limited  Melbourne VIC  116647.0   \n",
       "3  Swinburne University of Technology  Melbourne VIC   25849.0   \n",
       "4                            VicRoads   Kew East VIC  118388.5   \n",
       "\n",
       "                                           Summaries  high_salary States  \n",
       "0  Student Data Officer, Community Planning Refer...            1     NA  \n",
       "1  Job Summary Why Pythian? Pythian is a global I...            1     NA  \n",
       "2  Located at our Head Office in Footscray (10 mi...            1     NA  \n",
       "3  Faculty of Science, Engineering and Technology...            0     NA  \n",
       "4  About VicRoads Victoria has embarked on a once...            1     NA  "
      ]
     },
     "execution_count": 11,
     "metadata": {},
     "output_type": "execute_result"
    }
   ],
   "source": [
    "df.head()"
   ]
  },
  {
   "cell_type": "code",
   "execution_count": 12,
   "metadata": {
    "collapsed": true
   },
   "outputs": [],
   "source": [
    "state = ['NSW', 'VIC', 'QLD','ACT','WA', 'TAS', 'SA','Victoria', 'Tasmania', 'Queensland','Australia', 'NT', 'New South Wales']"
   ]
  },
  {
   "cell_type": "code",
   "execution_count": 13,
   "metadata": {
    "collapsed": true
   },
   "outputs": [],
   "source": [
    "for s in state:\n",
    "    a = df[df.Locations.str.contains(s)].index\n",
    "    df.iloc[a,6] = s"
   ]
  },
  {
   "cell_type": "code",
   "execution_count": 14,
   "metadata": {},
   "outputs": [
    {
     "data": {
      "text/html": [
       "<div>\n",
       "<style>\n",
       "    .dataframe thead tr:only-child th {\n",
       "        text-align: right;\n",
       "    }\n",
       "\n",
       "    .dataframe thead th {\n",
       "        text-align: left;\n",
       "    }\n",
       "\n",
       "    .dataframe tbody tr th {\n",
       "        vertical-align: top;\n",
       "    }\n",
       "</style>\n",
       "<table border=\"1\" class=\"dataframe\">\n",
       "  <thead>\n",
       "    <tr style=\"text-align: right;\">\n",
       "      <th></th>\n",
       "      <th>Jobs</th>\n",
       "      <th>Companies</th>\n",
       "      <th>Locations</th>\n",
       "      <th>Salaries</th>\n",
       "      <th>Summaries</th>\n",
       "      <th>high_salary</th>\n",
       "      <th>States</th>\n",
       "    </tr>\n",
       "  </thead>\n",
       "  <tbody>\n",
       "    <tr>\n",
       "      <th>0</th>\n",
       "      <td>Student - Data Officer, Community Planning</td>\n",
       "      <td>Moonee Valley City Council</td>\n",
       "      <td>Melbourne VIC</td>\n",
       "      <td>339000.0</td>\n",
       "      <td>Student Data Officer, Community Planning Refer...</td>\n",
       "      <td>1</td>\n",
       "      <td>VIC</td>\n",
       "    </tr>\n",
       "    <tr>\n",
       "      <th>1</th>\n",
       "      <td>Solutions Architect</td>\n",
       "      <td>Pythian</td>\n",
       "      <td>Sydney NSW</td>\n",
       "      <td>165000.0</td>\n",
       "      <td>Job Summary Why Pythian? Pythian is a global I...</td>\n",
       "      <td>1</td>\n",
       "      <td>NSW</td>\n",
       "    </tr>\n",
       "    <tr>\n",
       "      <th>2</th>\n",
       "      <td>Manager, Insights</td>\n",
       "      <td>State Trustees Limited</td>\n",
       "      <td>Melbourne VIC</td>\n",
       "      <td>116647.0</td>\n",
       "      <td>Located at our Head Office in Footscray (10 mi...</td>\n",
       "      <td>1</td>\n",
       "      <td>VIC</td>\n",
       "    </tr>\n",
       "    <tr>\n",
       "      <th>3</th>\n",
       "      <td>PhD Scholarship – Big Data Analytics for Oil D...</td>\n",
       "      <td>Swinburne University of Technology</td>\n",
       "      <td>Melbourne VIC</td>\n",
       "      <td>25849.0</td>\n",
       "      <td>Faculty of Science, Engineering and Technology...</td>\n",
       "      <td>0</td>\n",
       "      <td>VIC</td>\n",
       "    </tr>\n",
       "    <tr>\n",
       "      <th>4</th>\n",
       "      <td>STRUCTURAL TECHNOLOGY SPECIALIST</td>\n",
       "      <td>VicRoads</td>\n",
       "      <td>Kew East VIC</td>\n",
       "      <td>118388.5</td>\n",
       "      <td>About VicRoads Victoria has embarked on a once...</td>\n",
       "      <td>1</td>\n",
       "      <td>VIC</td>\n",
       "    </tr>\n",
       "  </tbody>\n",
       "</table>\n",
       "</div>"
      ],
      "text/plain": [
       "                                                Jobs  \\\n",
       "0         Student - Data Officer, Community Planning   \n",
       "1                                Solutions Architect   \n",
       "2                                  Manager, Insights   \n",
       "3  PhD Scholarship – Big Data Analytics for Oil D...   \n",
       "4                   STRUCTURAL TECHNOLOGY SPECIALIST   \n",
       "\n",
       "                            Companies      Locations  Salaries  \\\n",
       "0          Moonee Valley City Council  Melbourne VIC  339000.0   \n",
       "1                             Pythian     Sydney NSW  165000.0   \n",
       "2              State Trustees Limited  Melbourne VIC  116647.0   \n",
       "3  Swinburne University of Technology  Melbourne VIC   25849.0   \n",
       "4                            VicRoads   Kew East VIC  118388.5   \n",
       "\n",
       "                                           Summaries  high_salary States  \n",
       "0  Student Data Officer, Community Planning Refer...            1    VIC  \n",
       "1  Job Summary Why Pythian? Pythian is a global I...            1    NSW  \n",
       "2  Located at our Head Office in Footscray (10 mi...            1    VIC  \n",
       "3  Faculty of Science, Engineering and Technology...            0    VIC  \n",
       "4  About VicRoads Victoria has embarked on a once...            1    VIC  "
      ]
     },
     "execution_count": 14,
     "metadata": {},
     "output_type": "execute_result"
    }
   ],
   "source": [
    "df.head()"
   ]
  },
  {
   "cell_type": "code",
   "execution_count": 15,
   "metadata": {
    "collapsed": true
   },
   "outputs": [],
   "source": [
    "a = df[df.Locations.str.contains('Tasmania')].index\n",
    "df.iloc[a,6] = 'TAS'"
   ]
  },
  {
   "cell_type": "code",
   "execution_count": 16,
   "metadata": {},
   "outputs": [
    {
     "data": {
      "text/plain": [
       "NSW                355\n",
       "VIC                172\n",
       "QLD                 65\n",
       "Australia           32\n",
       "WA                  30\n",
       "ACT                 27\n",
       "SA                  17\n",
       "TAS                 11\n",
       "New South Wales      7\n",
       "Victoria             6\n",
       "Queensland           4\n",
       "NT                   2\n",
       "Name: States, dtype: int64"
      ]
     },
     "execution_count": 16,
     "metadata": {},
     "output_type": "execute_result"
    }
   ],
   "source": [
    "df.States.value_counts()"
   ]
  },
  {
   "cell_type": "code",
   "execution_count": 17,
   "metadata": {
    "collapsed": true
   },
   "outputs": [],
   "source": [
    "for loc in df.Locations:\n",
    "    df['Cities'] = 'NA'"
   ]
  },
  {
   "cell_type": "code",
   "execution_count": 18,
   "metadata": {
    "collapsed": true
   },
   "outputs": [],
   "source": [
    "for s in state:\n",
    "    a = df[df.Locations.str.contains(s)].index\n",
    "    if df.iloc[a,2].all() == s:\n",
    "        df.iloc[a,7] = 'No City'\n",
    "    else:\n",
    "        b = df.Locations.str.replace(s, '')\n",
    "        df.iloc[a,7] = b"
   ]
  },
  {
   "cell_type": "code",
   "execution_count": 19,
   "metadata": {},
   "outputs": [
    {
     "data": {
      "text/plain": [
       "Sydney                               255\n",
       "Melbourne                            103\n",
       "No City                               50\n",
       "Brisbane                              42\n",
       "Sydney Central Business District      29\n",
       "Canberra                              26\n",
       "Melbourne City Centre                 23\n",
       "Perth                                 12\n",
       "Adelaide                              12\n",
       "Parkville                             12\n",
       "Name: Cities, dtype: int64"
      ]
     },
     "execution_count": 19,
     "metadata": {},
     "output_type": "execute_result"
    }
   ],
   "source": [
    "df.Cities.value_counts()[0:10]"
   ]
  },
  {
   "cell_type": "code",
   "execution_count": 20,
   "metadata": {
    "collapsed": true
   },
   "outputs": [],
   "source": [
    "df['City'] = df.Cities + \", \" + df.States"
   ]
  },
  {
   "cell_type": "code",
   "execution_count": 21,
   "metadata": {
    "collapsed": true
   },
   "outputs": [],
   "source": [
    "df.drop(['States','Cities'], axis=1, inplace=True)"
   ]
  },
  {
   "cell_type": "code",
   "execution_count": 22,
   "metadata": {},
   "outputs": [
    {
     "data": {
      "text/html": [
       "<div>\n",
       "<style>\n",
       "    .dataframe thead tr:only-child th {\n",
       "        text-align: right;\n",
       "    }\n",
       "\n",
       "    .dataframe thead th {\n",
       "        text-align: left;\n",
       "    }\n",
       "\n",
       "    .dataframe tbody tr th {\n",
       "        vertical-align: top;\n",
       "    }\n",
       "</style>\n",
       "<table border=\"1\" class=\"dataframe\">\n",
       "  <thead>\n",
       "    <tr style=\"text-align: right;\">\n",
       "      <th></th>\n",
       "      <th>Jobs</th>\n",
       "      <th>Companies</th>\n",
       "      <th>Locations</th>\n",
       "      <th>Salaries</th>\n",
       "      <th>Summaries</th>\n",
       "      <th>high_salary</th>\n",
       "      <th>City</th>\n",
       "    </tr>\n",
       "  </thead>\n",
       "  <tbody>\n",
       "    <tr>\n",
       "      <th>0</th>\n",
       "      <td>Student - Data Officer, Community Planning</td>\n",
       "      <td>Moonee Valley City Council</td>\n",
       "      <td>Melbourne VIC</td>\n",
       "      <td>339000.0</td>\n",
       "      <td>Student Data Officer, Community Planning Refer...</td>\n",
       "      <td>1</td>\n",
       "      <td>Melbourne , VIC</td>\n",
       "    </tr>\n",
       "    <tr>\n",
       "      <th>1</th>\n",
       "      <td>Solutions Architect</td>\n",
       "      <td>Pythian</td>\n",
       "      <td>Sydney NSW</td>\n",
       "      <td>165000.0</td>\n",
       "      <td>Job Summary Why Pythian? Pythian is a global I...</td>\n",
       "      <td>1</td>\n",
       "      <td>Sydney , NSW</td>\n",
       "    </tr>\n",
       "    <tr>\n",
       "      <th>2</th>\n",
       "      <td>Manager, Insights</td>\n",
       "      <td>State Trustees Limited</td>\n",
       "      <td>Melbourne VIC</td>\n",
       "      <td>116647.0</td>\n",
       "      <td>Located at our Head Office in Footscray (10 mi...</td>\n",
       "      <td>1</td>\n",
       "      <td>Melbourne , VIC</td>\n",
       "    </tr>\n",
       "    <tr>\n",
       "      <th>3</th>\n",
       "      <td>PhD Scholarship – Big Data Analytics for Oil D...</td>\n",
       "      <td>Swinburne University of Technology</td>\n",
       "      <td>Melbourne VIC</td>\n",
       "      <td>25849.0</td>\n",
       "      <td>Faculty of Science, Engineering and Technology...</td>\n",
       "      <td>0</td>\n",
       "      <td>Melbourne , VIC</td>\n",
       "    </tr>\n",
       "    <tr>\n",
       "      <th>4</th>\n",
       "      <td>STRUCTURAL TECHNOLOGY SPECIALIST</td>\n",
       "      <td>VicRoads</td>\n",
       "      <td>Kew East VIC</td>\n",
       "      <td>118388.5</td>\n",
       "      <td>About VicRoads Victoria has embarked on a once...</td>\n",
       "      <td>1</td>\n",
       "      <td>Kew East , VIC</td>\n",
       "    </tr>\n",
       "  </tbody>\n",
       "</table>\n",
       "</div>"
      ],
      "text/plain": [
       "                                                Jobs  \\\n",
       "0         Student - Data Officer, Community Planning   \n",
       "1                                Solutions Architect   \n",
       "2                                  Manager, Insights   \n",
       "3  PhD Scholarship – Big Data Analytics for Oil D...   \n",
       "4                   STRUCTURAL TECHNOLOGY SPECIALIST   \n",
       "\n",
       "                            Companies      Locations  Salaries  \\\n",
       "0          Moonee Valley City Council  Melbourne VIC  339000.0   \n",
       "1                             Pythian     Sydney NSW  165000.0   \n",
       "2              State Trustees Limited  Melbourne VIC  116647.0   \n",
       "3  Swinburne University of Technology  Melbourne VIC   25849.0   \n",
       "4                            VicRoads   Kew East VIC  118388.5   \n",
       "\n",
       "                                           Summaries  high_salary  \\\n",
       "0  Student Data Officer, Community Planning Refer...            1   \n",
       "1  Job Summary Why Pythian? Pythian is a global I...            1   \n",
       "2  Located at our Head Office in Footscray (10 mi...            1   \n",
       "3  Faculty of Science, Engineering and Technology...            0   \n",
       "4  About VicRoads Victoria has embarked on a once...            1   \n",
       "\n",
       "              City  \n",
       "0  Melbourne , VIC  \n",
       "1     Sydney , NSW  \n",
       "2  Melbourne , VIC  \n",
       "3  Melbourne , VIC  \n",
       "4   Kew East , VIC  "
      ]
     },
     "execution_count": 22,
     "metadata": {},
     "output_type": "execute_result"
    }
   ],
   "source": [
    "df.head()"
   ]
  },
  {
   "cell_type": "code",
   "execution_count": 23,
   "metadata": {
    "collapsed": true
   },
   "outputs": [],
   "source": [
    "city_dummies = pd.get_dummies(df.City)\n",
    "\n",
    "X_city = city_dummies\n",
    "y_city = df.high_salary"
   ]
  },
  {
   "cell_type": "code",
   "execution_count": 24,
   "metadata": {
    "collapsed": true
   },
   "outputs": [],
   "source": [
    "X_train, X_test, y_train, y_test = train_test_split(X_city, y_city, test_size=0.3, random_state=90)"
   ]
  },
  {
   "cell_type": "code",
   "execution_count": 25,
   "metadata": {},
   "outputs": [
    {
     "name": "stdout",
     "output_type": "stream",
     "text": [
      "Accuracy Score: 0.699\n",
      "Cross Validation Score:\t0.661 ± 0.024\n"
     ]
    }
   ],
   "source": [
    "rfc = RandomForestClassifier(n_estimators=300, random_state=90)\n",
    "rfc.fit(X_train, y_train)\n",
    "\n",
    "rfc_pred = rfc.predict(X_test)\n",
    "acc = accuracy_score(y_test, rfc_pred)\n",
    "print(\"Accuracy Score:\", acc.round(3))\n",
    "\n",
    "s = cross_val_score(rfc, X_city, y_city, cv=10, n_jobs=-1)\n",
    "print(\"Cross Validation Score:\\t{:0.3} ± {:0.3}\".format(s.mean().round(3), s.std().round(3)))"
   ]
  },
  {
   "cell_type": "code",
   "execution_count": 26,
   "metadata": {},
   "outputs": [
    {
     "data": {
      "text/html": [
       "<div>\n",
       "<style>\n",
       "    .dataframe thead tr:only-child th {\n",
       "        text-align: right;\n",
       "    }\n",
       "\n",
       "    .dataframe thead th {\n",
       "        text-align: left;\n",
       "    }\n",
       "\n",
       "    .dataframe tbody tr th {\n",
       "        vertical-align: top;\n",
       "    }\n",
       "</style>\n",
       "<table border=\"1\" class=\"dataframe\">\n",
       "  <thead>\n",
       "    <tr style=\"text-align: right;\">\n",
       "      <th></th>\n",
       "      <th>feature</th>\n",
       "      <th>importance</th>\n",
       "      <th>median_salary</th>\n",
       "      <th>over_or_under</th>\n",
       "    </tr>\n",
       "  </thead>\n",
       "  <tbody>\n",
       "    <tr>\n",
       "      <th>84</th>\n",
       "      <td>Sydney , NSW</td>\n",
       "      <td>0.113798</td>\n",
       "      <td>120000.0</td>\n",
       "      <td>1</td>\n",
       "    </tr>\n",
       "    <tr>\n",
       "      <th>37</th>\n",
       "      <td>Hobart , TAS</td>\n",
       "      <td>0.041932</td>\n",
       "      <td>85500.0</td>\n",
       "      <td>0</td>\n",
       "    </tr>\n",
       "    <tr>\n",
       "      <th>42</th>\n",
       "      <td>Mackay , QLD</td>\n",
       "      <td>0.037751</td>\n",
       "      <td>66500.0</td>\n",
       "      <td>0</td>\n",
       "    </tr>\n",
       "    <tr>\n",
       "      <th>70</th>\n",
       "      <td>Parramatta , NSW</td>\n",
       "      <td>0.027646</td>\n",
       "      <td>700000.0</td>\n",
       "      <td>1</td>\n",
       "    </tr>\n",
       "    <tr>\n",
       "      <th>5</th>\n",
       "      <td>Ballarat , VIC</td>\n",
       "      <td>0.026841</td>\n",
       "      <td>80000.0</td>\n",
       "      <td>0</td>\n",
       "    </tr>\n",
       "    <tr>\n",
       "      <th>53</th>\n",
       "      <td>Milton , QLD</td>\n",
       "      <td>0.026804</td>\n",
       "      <td>88750.0</td>\n",
       "      <td>0</td>\n",
       "    </tr>\n",
       "    <tr>\n",
       "      <th>30</th>\n",
       "      <td>Edgecliff , NSW</td>\n",
       "      <td>0.023790</td>\n",
       "      <td>61250.0</td>\n",
       "      <td>0</td>\n",
       "    </tr>\n",
       "    <tr>\n",
       "      <th>22</th>\n",
       "      <td>Clayton , VIC</td>\n",
       "      <td>0.022801</td>\n",
       "      <td>71789.5</td>\n",
       "      <td>0</td>\n",
       "    </tr>\n",
       "    <tr>\n",
       "      <th>69</th>\n",
       "      <td>Parkville , VIC</td>\n",
       "      <td>0.021691</td>\n",
       "      <td>81489.0</td>\n",
       "      <td>0</td>\n",
       "    </tr>\n",
       "    <tr>\n",
       "      <th>0</th>\n",
       "      <td>Adelaide , SA</td>\n",
       "      <td>0.017540</td>\n",
       "      <td>82933.0</td>\n",
       "      <td>0</td>\n",
       "    </tr>\n",
       "    <tr>\n",
       "      <th>47</th>\n",
       "      <td>Melbourne , VIC</td>\n",
       "      <td>0.016465</td>\n",
       "      <td>100000.0</td>\n",
       "      <td>1</td>\n",
       "    </tr>\n",
       "    <tr>\n",
       "      <th>71</th>\n",
       "      <td>Perth , WA</td>\n",
       "      <td>0.016167</td>\n",
       "      <td>95750.0</td>\n",
       "      <td>1</td>\n",
       "    </tr>\n",
       "    <tr>\n",
       "      <th>82</th>\n",
       "      <td>St Lucia , QLD</td>\n",
       "      <td>0.014916</td>\n",
       "      <td>84540.0</td>\n",
       "      <td>0</td>\n",
       "    </tr>\n",
       "    <tr>\n",
       "      <th>61</th>\n",
       "      <td>No City, New South Wales</td>\n",
       "      <td>0.014798</td>\n",
       "      <td>718750.0</td>\n",
       "      <td>1</td>\n",
       "    </tr>\n",
       "    <tr>\n",
       "      <th>16</th>\n",
       "      <td>Caulfield , VIC</td>\n",
       "      <td>0.014556</td>\n",
       "      <td>104231.5</td>\n",
       "      <td>1</td>\n",
       "    </tr>\n",
       "  </tbody>\n",
       "</table>\n",
       "</div>"
      ],
      "text/plain": [
       "                     feature  importance  median_salary  over_or_under\n",
       "84              Sydney , NSW    0.113798       120000.0              1\n",
       "37              Hobart , TAS    0.041932        85500.0              0\n",
       "42              Mackay , QLD    0.037751        66500.0              0\n",
       "70          Parramatta , NSW    0.027646       700000.0              1\n",
       "5             Ballarat , VIC    0.026841        80000.0              0\n",
       "53              Milton , QLD    0.026804        88750.0              0\n",
       "30           Edgecliff , NSW    0.023790        61250.0              0\n",
       "22             Clayton , VIC    0.022801        71789.5              0\n",
       "69           Parkville , VIC    0.021691        81489.0              0\n",
       "0              Adelaide , SA    0.017540        82933.0              0\n",
       "47           Melbourne , VIC    0.016465       100000.0              1\n",
       "71                Perth , WA    0.016167        95750.0              1\n",
       "82            St Lucia , QLD    0.014916        84540.0              0\n",
       "61  No City, New South Wales    0.014798       718750.0              1\n",
       "16           Caulfield , VIC    0.014556       104231.5              1"
      ]
     },
     "execution_count": 26,
     "metadata": {},
     "output_type": "execute_result"
    }
   ],
   "source": [
    "feature_importances = pd.DataFrame(rfc.feature_importances_,\n",
    "                                   index = X_city.columns).reset_index()\n",
    "feature_importances.columns = ['feature', 'importance']\n",
    "\n",
    "feature_medians = []\n",
    "for i in X_city.columns:\n",
    "    feature_medians.append(np.median(df[df.City == i].Salaries))\n",
    "\n",
    "feature_importances['median_salary'] = feature_medians\n",
    "feature_importances['over_or_under'] = [1 if i > median_salary else 0 for i in feature_importances.median_salary]\n",
    "\n",
    "feature_importances.sort_values('importance', ascending=False).head(15)"
   ]
  },
  {
   "cell_type": "code",
   "execution_count": 27,
   "metadata": {
    "collapsed": true
   },
   "outputs": [],
   "source": [
    "df.to_csv('Cleaned_City.csv')"
   ]
  },
  {
   "cell_type": "code",
   "execution_count": null,
   "metadata": {
    "collapsed": true
   },
   "outputs": [],
   "source": []
  }
 ],
 "metadata": {
  "kernelspec": {
   "display_name": "Python 3",
   "language": "python",
   "name": "python3"
  },
  "language_info": {
   "codemirror_mode": {
    "name": "ipython",
    "version": 3
   },
   "file_extension": ".py",
   "mimetype": "text/x-python",
   "name": "python",
   "nbconvert_exporter": "python",
   "pygments_lexer": "ipython3",
   "version": "3.6.3"
  }
 },
 "nbformat": 4,
 "nbformat_minor": 2
}
